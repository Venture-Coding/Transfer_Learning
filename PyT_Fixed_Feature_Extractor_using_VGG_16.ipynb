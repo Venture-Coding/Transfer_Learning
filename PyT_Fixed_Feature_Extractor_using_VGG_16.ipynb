{
  "nbformat": 4,
  "nbformat_minor": 0,
  "metadata": {
    "colab": {
      "name": "Fixed_Feature_Extractor_using_VGG-16.ipynb",
      "provenance": [],
      "collapsed_sections": [
        "eMvdfArHRj7I",
        "3KnVo-JymOUh",
        "QmiIFDJXDsan",
        "icQvTdftMkPq",
        "lCoFRFofMx7p"
      ],
      "machine_shape": "hm",
      "include_colab_link": true
    },
    "kernelspec": {
      "name": "python3",
      "display_name": "Python 3"
    },
    "accelerator": "GPU",
    "widgets": {
      "application/vnd.jupyter.widget-state+json": {
        "0e5c08cf25fd4136a78e1061e1cb1955": {
          "model_module": "@jupyter-widgets/controls",
          "model_name": "HBoxModel",
          "model_module_version": "1.5.0",
          "state": {
            "_view_name": "HBoxView",
            "_dom_classes": [],
            "_model_name": "HBoxModel",
            "_view_module": "@jupyter-widgets/controls",
            "_model_module_version": "1.5.0",
            "_view_count": null,
            "_view_module_version": "1.5.0",
            "box_style": "",
            "layout": "IPY_MODEL_e0613e0068414bc8b5eb0f7f35ec1d89",
            "_model_module": "@jupyter-widgets/controls",
            "children": [
              "IPY_MODEL_30fc2cc7a30648aa984f976362bf292d",
              "IPY_MODEL_55c080acfa00461084aba7ff39fdb808",
              "IPY_MODEL_84f383041c254e5eba051bd49eb87c91"
            ]
          }
        },
        "e0613e0068414bc8b5eb0f7f35ec1d89": {
          "model_module": "@jupyter-widgets/base",
          "model_name": "LayoutModel",
          "model_module_version": "1.2.0",
          "state": {
            "_view_name": "LayoutView",
            "grid_template_rows": null,
            "right": null,
            "justify_content": null,
            "_view_module": "@jupyter-widgets/base",
            "overflow": null,
            "_model_module_version": "1.2.0",
            "_view_count": null,
            "flex_flow": null,
            "width": null,
            "min_width": null,
            "border": null,
            "align_items": null,
            "bottom": null,
            "_model_module": "@jupyter-widgets/base",
            "top": null,
            "grid_column": null,
            "overflow_y": null,
            "overflow_x": null,
            "grid_auto_flow": null,
            "grid_area": null,
            "grid_template_columns": null,
            "flex": null,
            "_model_name": "LayoutModel",
            "justify_items": null,
            "grid_row": null,
            "max_height": null,
            "align_content": null,
            "visibility": null,
            "align_self": null,
            "height": null,
            "min_height": null,
            "padding": null,
            "grid_auto_rows": null,
            "grid_gap": null,
            "max_width": null,
            "order": null,
            "_view_module_version": "1.2.0",
            "grid_template_areas": null,
            "object_position": null,
            "object_fit": null,
            "grid_auto_columns": null,
            "margin": null,
            "display": null,
            "left": null
          }
        },
        "30fc2cc7a30648aa984f976362bf292d": {
          "model_module": "@jupyter-widgets/controls",
          "model_name": "HTMLModel",
          "model_module_version": "1.5.0",
          "state": {
            "_view_name": "HTMLView",
            "style": "IPY_MODEL_7362a980eb964ea5818af29d2c1f701d",
            "_dom_classes": [],
            "description": "",
            "_model_name": "HTMLModel",
            "placeholder": "​",
            "_view_module": "@jupyter-widgets/controls",
            "_model_module_version": "1.5.0",
            "value": "",
            "_view_count": null,
            "_view_module_version": "1.5.0",
            "description_tooltip": null,
            "_model_module": "@jupyter-widgets/controls",
            "layout": "IPY_MODEL_697e874bd2c64eb5b1fe399605009f0d"
          }
        },
        "55c080acfa00461084aba7ff39fdb808": {
          "model_module": "@jupyter-widgets/controls",
          "model_name": "FloatProgressModel",
          "model_module_version": "1.5.0",
          "state": {
            "_view_name": "ProgressView",
            "style": "IPY_MODEL_f0d5e518f0a14a65b7937a1d8dd10e61",
            "_dom_classes": [],
            "description": "",
            "_model_name": "FloatProgressModel",
            "bar_style": "success",
            "max": 170498071,
            "_view_module": "@jupyter-widgets/controls",
            "_model_module_version": "1.5.0",
            "value": 170498071,
            "_view_count": null,
            "_view_module_version": "1.5.0",
            "orientation": "horizontal",
            "min": 0,
            "description_tooltip": null,
            "_model_module": "@jupyter-widgets/controls",
            "layout": "IPY_MODEL_9c76efebf75e40c198179d66bc6a3a47"
          }
        },
        "84f383041c254e5eba051bd49eb87c91": {
          "model_module": "@jupyter-widgets/controls",
          "model_name": "HTMLModel",
          "model_module_version": "1.5.0",
          "state": {
            "_view_name": "HTMLView",
            "style": "IPY_MODEL_e1ae03e0b3d64451b923b115d44deb27",
            "_dom_classes": [],
            "description": "",
            "_model_name": "HTMLModel",
            "placeholder": "​",
            "_view_module": "@jupyter-widgets/controls",
            "_model_module_version": "1.5.0",
            "value": " 170499072/? [00:12&lt;00:00, 16450240.63it/s]",
            "_view_count": null,
            "_view_module_version": "1.5.0",
            "description_tooltip": null,
            "_model_module": "@jupyter-widgets/controls",
            "layout": "IPY_MODEL_31f1ecc49c454afebcd029596679a7cd"
          }
        },
        "7362a980eb964ea5818af29d2c1f701d": {
          "model_module": "@jupyter-widgets/controls",
          "model_name": "DescriptionStyleModel",
          "model_module_version": "1.5.0",
          "state": {
            "_view_name": "StyleView",
            "_model_name": "DescriptionStyleModel",
            "description_width": "",
            "_view_module": "@jupyter-widgets/base",
            "_model_module_version": "1.5.0",
            "_view_count": null,
            "_view_module_version": "1.2.0",
            "_model_module": "@jupyter-widgets/controls"
          }
        },
        "697e874bd2c64eb5b1fe399605009f0d": {
          "model_module": "@jupyter-widgets/base",
          "model_name": "LayoutModel",
          "model_module_version": "1.2.0",
          "state": {
            "_view_name": "LayoutView",
            "grid_template_rows": null,
            "right": null,
            "justify_content": null,
            "_view_module": "@jupyter-widgets/base",
            "overflow": null,
            "_model_module_version": "1.2.0",
            "_view_count": null,
            "flex_flow": null,
            "width": null,
            "min_width": null,
            "border": null,
            "align_items": null,
            "bottom": null,
            "_model_module": "@jupyter-widgets/base",
            "top": null,
            "grid_column": null,
            "overflow_y": null,
            "overflow_x": null,
            "grid_auto_flow": null,
            "grid_area": null,
            "grid_template_columns": null,
            "flex": null,
            "_model_name": "LayoutModel",
            "justify_items": null,
            "grid_row": null,
            "max_height": null,
            "align_content": null,
            "visibility": null,
            "align_self": null,
            "height": null,
            "min_height": null,
            "padding": null,
            "grid_auto_rows": null,
            "grid_gap": null,
            "max_width": null,
            "order": null,
            "_view_module_version": "1.2.0",
            "grid_template_areas": null,
            "object_position": null,
            "object_fit": null,
            "grid_auto_columns": null,
            "margin": null,
            "display": null,
            "left": null
          }
        },
        "f0d5e518f0a14a65b7937a1d8dd10e61": {
          "model_module": "@jupyter-widgets/controls",
          "model_name": "ProgressStyleModel",
          "model_module_version": "1.5.0",
          "state": {
            "_view_name": "StyleView",
            "_model_name": "ProgressStyleModel",
            "description_width": "",
            "_view_module": "@jupyter-widgets/base",
            "_model_module_version": "1.5.0",
            "_view_count": null,
            "_view_module_version": "1.2.0",
            "bar_color": null,
            "_model_module": "@jupyter-widgets/controls"
          }
        },
        "9c76efebf75e40c198179d66bc6a3a47": {
          "model_module": "@jupyter-widgets/base",
          "model_name": "LayoutModel",
          "model_module_version": "1.2.0",
          "state": {
            "_view_name": "LayoutView",
            "grid_template_rows": null,
            "right": null,
            "justify_content": null,
            "_view_module": "@jupyter-widgets/base",
            "overflow": null,
            "_model_module_version": "1.2.0",
            "_view_count": null,
            "flex_flow": null,
            "width": null,
            "min_width": null,
            "border": null,
            "align_items": null,
            "bottom": null,
            "_model_module": "@jupyter-widgets/base",
            "top": null,
            "grid_column": null,
            "overflow_y": null,
            "overflow_x": null,
            "grid_auto_flow": null,
            "grid_area": null,
            "grid_template_columns": null,
            "flex": null,
            "_model_name": "LayoutModel",
            "justify_items": null,
            "grid_row": null,
            "max_height": null,
            "align_content": null,
            "visibility": null,
            "align_self": null,
            "height": null,
            "min_height": null,
            "padding": null,
            "grid_auto_rows": null,
            "grid_gap": null,
            "max_width": null,
            "order": null,
            "_view_module_version": "1.2.0",
            "grid_template_areas": null,
            "object_position": null,
            "object_fit": null,
            "grid_auto_columns": null,
            "margin": null,
            "display": null,
            "left": null
          }
        },
        "e1ae03e0b3d64451b923b115d44deb27": {
          "model_module": "@jupyter-widgets/controls",
          "model_name": "DescriptionStyleModel",
          "model_module_version": "1.5.0",
          "state": {
            "_view_name": "StyleView",
            "_model_name": "DescriptionStyleModel",
            "description_width": "",
            "_view_module": "@jupyter-widgets/base",
            "_model_module_version": "1.5.0",
            "_view_count": null,
            "_view_module_version": "1.2.0",
            "_model_module": "@jupyter-widgets/controls"
          }
        },
        "31f1ecc49c454afebcd029596679a7cd": {
          "model_module": "@jupyter-widgets/base",
          "model_name": "LayoutModel",
          "model_module_version": "1.2.0",
          "state": {
            "_view_name": "LayoutView",
            "grid_template_rows": null,
            "right": null,
            "justify_content": null,
            "_view_module": "@jupyter-widgets/base",
            "overflow": null,
            "_model_module_version": "1.2.0",
            "_view_count": null,
            "flex_flow": null,
            "width": null,
            "min_width": null,
            "border": null,
            "align_items": null,
            "bottom": null,
            "_model_module": "@jupyter-widgets/base",
            "top": null,
            "grid_column": null,
            "overflow_y": null,
            "overflow_x": null,
            "grid_auto_flow": null,
            "grid_area": null,
            "grid_template_columns": null,
            "flex": null,
            "_model_name": "LayoutModel",
            "justify_items": null,
            "grid_row": null,
            "max_height": null,
            "align_content": null,
            "visibility": null,
            "align_self": null,
            "height": null,
            "min_height": null,
            "padding": null,
            "grid_auto_rows": null,
            "grid_gap": null,
            "max_width": null,
            "order": null,
            "_view_module_version": "1.2.0",
            "grid_template_areas": null,
            "object_position": null,
            "object_fit": null,
            "grid_auto_columns": null,
            "margin": null,
            "display": null,
            "left": null
          }
        },
        "5978925559544824b3d7edcdd0d48c4d": {
          "model_module": "@jupyter-widgets/controls",
          "model_name": "HBoxModel",
          "model_module_version": "1.5.0",
          "state": {
            "_view_name": "HBoxView",
            "_dom_classes": [],
            "_model_name": "HBoxModel",
            "_view_module": "@jupyter-widgets/controls",
            "_model_module_version": "1.5.0",
            "_view_count": null,
            "_view_module_version": "1.5.0",
            "box_style": "",
            "layout": "IPY_MODEL_52e93f27b7374ea688ba0bd58cda5055",
            "_model_module": "@jupyter-widgets/controls",
            "children": [
              "IPY_MODEL_3d1708e10e1741fc8f66778f8e0daac3",
              "IPY_MODEL_9cf0077538374ffb867620ca0871aff9",
              "IPY_MODEL_1c6c1e037ce3450a8ad0256585918047"
            ]
          }
        },
        "52e93f27b7374ea688ba0bd58cda5055": {
          "model_module": "@jupyter-widgets/base",
          "model_name": "LayoutModel",
          "model_module_version": "1.2.0",
          "state": {
            "_view_name": "LayoutView",
            "grid_template_rows": null,
            "right": null,
            "justify_content": null,
            "_view_module": "@jupyter-widgets/base",
            "overflow": null,
            "_model_module_version": "1.2.0",
            "_view_count": null,
            "flex_flow": null,
            "width": null,
            "min_width": null,
            "border": null,
            "align_items": null,
            "bottom": null,
            "_model_module": "@jupyter-widgets/base",
            "top": null,
            "grid_column": null,
            "overflow_y": null,
            "overflow_x": null,
            "grid_auto_flow": null,
            "grid_area": null,
            "grid_template_columns": null,
            "flex": null,
            "_model_name": "LayoutModel",
            "justify_items": null,
            "grid_row": null,
            "max_height": null,
            "align_content": null,
            "visibility": null,
            "align_self": null,
            "height": null,
            "min_height": null,
            "padding": null,
            "grid_auto_rows": null,
            "grid_gap": null,
            "max_width": null,
            "order": null,
            "_view_module_version": "1.2.0",
            "grid_template_areas": null,
            "object_position": null,
            "object_fit": null,
            "grid_auto_columns": null,
            "margin": null,
            "display": null,
            "left": null
          }
        },
        "3d1708e10e1741fc8f66778f8e0daac3": {
          "model_module": "@jupyter-widgets/controls",
          "model_name": "HTMLModel",
          "model_module_version": "1.5.0",
          "state": {
            "_view_name": "HTMLView",
            "style": "IPY_MODEL_a5fb7829672849e4b9c781607e29e749",
            "_dom_classes": [],
            "description": "",
            "_model_name": "HTMLModel",
            "placeholder": "​",
            "_view_module": "@jupyter-widgets/controls",
            "_model_module_version": "1.5.0",
            "value": "100%",
            "_view_count": null,
            "_view_module_version": "1.5.0",
            "description_tooltip": null,
            "_model_module": "@jupyter-widgets/controls",
            "layout": "IPY_MODEL_fde9d830da59450cac3ad4edc2fac141"
          }
        },
        "9cf0077538374ffb867620ca0871aff9": {
          "model_module": "@jupyter-widgets/controls",
          "model_name": "FloatProgressModel",
          "model_module_version": "1.5.0",
          "state": {
            "_view_name": "ProgressView",
            "style": "IPY_MODEL_a97cbbe4d03142698c82bcfd420ac08f",
            "_dom_classes": [],
            "description": "",
            "_model_name": "FloatProgressModel",
            "bar_style": "success",
            "max": 553433881,
            "_view_module": "@jupyter-widgets/controls",
            "_model_module_version": "1.5.0",
            "value": 553433881,
            "_view_count": null,
            "_view_module_version": "1.5.0",
            "orientation": "horizontal",
            "min": 0,
            "description_tooltip": null,
            "_model_module": "@jupyter-widgets/controls",
            "layout": "IPY_MODEL_4721fb2b444645a0ae009d63b9b2e54e"
          }
        },
        "1c6c1e037ce3450a8ad0256585918047": {
          "model_module": "@jupyter-widgets/controls",
          "model_name": "HTMLModel",
          "model_module_version": "1.5.0",
          "state": {
            "_view_name": "HTMLView",
            "style": "IPY_MODEL_e3a6e143049c472e81cb2da2a46d784f",
            "_dom_classes": [],
            "description": "",
            "_model_name": "HTMLModel",
            "placeholder": "​",
            "_view_module": "@jupyter-widgets/controls",
            "_model_module_version": "1.5.0",
            "value": " 528M/528M [00:05&lt;00:00, 113MB/s]",
            "_view_count": null,
            "_view_module_version": "1.5.0",
            "description_tooltip": null,
            "_model_module": "@jupyter-widgets/controls",
            "layout": "IPY_MODEL_35948ca404834f17aed3645d044b88d7"
          }
        },
        "a5fb7829672849e4b9c781607e29e749": {
          "model_module": "@jupyter-widgets/controls",
          "model_name": "DescriptionStyleModel",
          "model_module_version": "1.5.0",
          "state": {
            "_view_name": "StyleView",
            "_model_name": "DescriptionStyleModel",
            "description_width": "",
            "_view_module": "@jupyter-widgets/base",
            "_model_module_version": "1.5.0",
            "_view_count": null,
            "_view_module_version": "1.2.0",
            "_model_module": "@jupyter-widgets/controls"
          }
        },
        "fde9d830da59450cac3ad4edc2fac141": {
          "model_module": "@jupyter-widgets/base",
          "model_name": "LayoutModel",
          "model_module_version": "1.2.0",
          "state": {
            "_view_name": "LayoutView",
            "grid_template_rows": null,
            "right": null,
            "justify_content": null,
            "_view_module": "@jupyter-widgets/base",
            "overflow": null,
            "_model_module_version": "1.2.0",
            "_view_count": null,
            "flex_flow": null,
            "width": null,
            "min_width": null,
            "border": null,
            "align_items": null,
            "bottom": null,
            "_model_module": "@jupyter-widgets/base",
            "top": null,
            "grid_column": null,
            "overflow_y": null,
            "overflow_x": null,
            "grid_auto_flow": null,
            "grid_area": null,
            "grid_template_columns": null,
            "flex": null,
            "_model_name": "LayoutModel",
            "justify_items": null,
            "grid_row": null,
            "max_height": null,
            "align_content": null,
            "visibility": null,
            "align_self": null,
            "height": null,
            "min_height": null,
            "padding": null,
            "grid_auto_rows": null,
            "grid_gap": null,
            "max_width": null,
            "order": null,
            "_view_module_version": "1.2.0",
            "grid_template_areas": null,
            "object_position": null,
            "object_fit": null,
            "grid_auto_columns": null,
            "margin": null,
            "display": null,
            "left": null
          }
        },
        "a97cbbe4d03142698c82bcfd420ac08f": {
          "model_module": "@jupyter-widgets/controls",
          "model_name": "ProgressStyleModel",
          "model_module_version": "1.5.0",
          "state": {
            "_view_name": "StyleView",
            "_model_name": "ProgressStyleModel",
            "description_width": "",
            "_view_module": "@jupyter-widgets/base",
            "_model_module_version": "1.5.0",
            "_view_count": null,
            "_view_module_version": "1.2.0",
            "bar_color": null,
            "_model_module": "@jupyter-widgets/controls"
          }
        },
        "4721fb2b444645a0ae009d63b9b2e54e": {
          "model_module": "@jupyter-widgets/base",
          "model_name": "LayoutModel",
          "model_module_version": "1.2.0",
          "state": {
            "_view_name": "LayoutView",
            "grid_template_rows": null,
            "right": null,
            "justify_content": null,
            "_view_module": "@jupyter-widgets/base",
            "overflow": null,
            "_model_module_version": "1.2.0",
            "_view_count": null,
            "flex_flow": null,
            "width": null,
            "min_width": null,
            "border": null,
            "align_items": null,
            "bottom": null,
            "_model_module": "@jupyter-widgets/base",
            "top": null,
            "grid_column": null,
            "overflow_y": null,
            "overflow_x": null,
            "grid_auto_flow": null,
            "grid_area": null,
            "grid_template_columns": null,
            "flex": null,
            "_model_name": "LayoutModel",
            "justify_items": null,
            "grid_row": null,
            "max_height": null,
            "align_content": null,
            "visibility": null,
            "align_self": null,
            "height": null,
            "min_height": null,
            "padding": null,
            "grid_auto_rows": null,
            "grid_gap": null,
            "max_width": null,
            "order": null,
            "_view_module_version": "1.2.0",
            "grid_template_areas": null,
            "object_position": null,
            "object_fit": null,
            "grid_auto_columns": null,
            "margin": null,
            "display": null,
            "left": null
          }
        },
        "e3a6e143049c472e81cb2da2a46d784f": {
          "model_module": "@jupyter-widgets/controls",
          "model_name": "DescriptionStyleModel",
          "model_module_version": "1.5.0",
          "state": {
            "_view_name": "StyleView",
            "_model_name": "DescriptionStyleModel",
            "description_width": "",
            "_view_module": "@jupyter-widgets/base",
            "_model_module_version": "1.5.0",
            "_view_count": null,
            "_view_module_version": "1.2.0",
            "_model_module": "@jupyter-widgets/controls"
          }
        },
        "35948ca404834f17aed3645d044b88d7": {
          "model_module": "@jupyter-widgets/base",
          "model_name": "LayoutModel",
          "model_module_version": "1.2.0",
          "state": {
            "_view_name": "LayoutView",
            "grid_template_rows": null,
            "right": null,
            "justify_content": null,
            "_view_module": "@jupyter-widgets/base",
            "overflow": null,
            "_model_module_version": "1.2.0",
            "_view_count": null,
            "flex_flow": null,
            "width": null,
            "min_width": null,
            "border": null,
            "align_items": null,
            "bottom": null,
            "_model_module": "@jupyter-widgets/base",
            "top": null,
            "grid_column": null,
            "overflow_y": null,
            "overflow_x": null,
            "grid_auto_flow": null,
            "grid_area": null,
            "grid_template_columns": null,
            "flex": null,
            "_model_name": "LayoutModel",
            "justify_items": null,
            "grid_row": null,
            "max_height": null,
            "align_content": null,
            "visibility": null,
            "align_self": null,
            "height": null,
            "min_height": null,
            "padding": null,
            "grid_auto_rows": null,
            "grid_gap": null,
            "max_width": null,
            "order": null,
            "_view_module_version": "1.2.0",
            "grid_template_areas": null,
            "object_position": null,
            "object_fit": null,
            "grid_auto_columns": null,
            "margin": null,
            "display": null,
            "left": null
          }
        }
      }
    }
  },
  "cells": [
    {
      "cell_type": "markdown",
      "metadata": {
        "id": "view-in-github",
        "colab_type": "text"
      },
      "source": [
        "<a href=\"https://colab.research.google.com/github/Venture-Coding/Linkedin_Learning/blob/main/Transfer%20Learning/Fixed_Feature_Extractor_using_VGG_16.ipynb\" target=\"_parent\"><img src=\"https://colab.research.google.com/assets/colab-badge.svg\" alt=\"Open In Colab\"/></a>"
      ]
    },
    {
      "cell_type": "markdown",
      "metadata": {
        "id": "7z2kILHRWcKg"
      },
      "source": [
        "# Transfer learning - Fixed Feature Extractor : VGG-16\n"
      ]
    },
    {
      "cell_type": "markdown",
      "metadata": {
        "id": "eMvdfArHRj7I"
      },
      "source": [
        "## Creating and using a Fixed Feature Extractor\n"
      ]
    },
    {
      "cell_type": "code",
      "metadata": {
        "id": "z3w2sce8WXYa"
      },
      "source": [
        "# Setting seeds to try and ensure we have the same results - this is not guaranteed across PyTorch releases.\n",
        "import torch\n",
        "torch.manual_seed(0)\n",
        "torch.backends.cudnn.deterministic = True\n",
        "torch.backends.cudnn.benchmark = False"
      ],
      "execution_count": 1,
      "outputs": []
    },
    {
      "cell_type": "code",
      "metadata": {
        "id": "GxDchYyEo5Fe"
      },
      "source": [
        "import torch.nn as nn\n",
        "import torch.nn.functional as F\n",
        "from torchvision import datasets, transforms, models\n",
        "from torch.utils.data import DataLoader"
      ],
      "execution_count": 2,
      "outputs": []
    },
    {
      "cell_type": "code",
      "metadata": {
        "id": "CYMYVmxMpX2z",
        "colab": {
          "base_uri": "https://localhost:8080/"
        },
        "outputId": "7dfbc75e-688c-4796-9fcd-8c5a97b101e1"
      },
      "source": [
        "device = torch.device('cuda' if torch.cuda.is_available() else 'cpu')\n",
        "device"
      ],
      "execution_count": 3,
      "outputs": [
        {
          "output_type": "execute_result",
          "data": {
            "text/plain": [
              "device(type='cuda')"
            ]
          },
          "metadata": {},
          "execution_count": 3
        }
      ]
    },
    {
      "cell_type": "markdown",
      "metadata": {
        "id": "lhpug2SlhSyN"
      },
      "source": [
        "**CUDA** is a **parallel computing platform** and application programming interface that allows software to use certain types of graphics processing unit for general purpose processing – an approach called general-purpose computing on GPUs. Developed by NVIDIA - Wiki"
      ]
    },
    {
      "cell_type": "code",
      "metadata": {
        "id": "fJEw9S-Up23y",
        "colab": {
          "base_uri": "https://localhost:8080/",
          "height": 103,
          "referenced_widgets": [
            "0e5c08cf25fd4136a78e1061e1cb1955",
            "e0613e0068414bc8b5eb0f7f35ec1d89",
            "30fc2cc7a30648aa984f976362bf292d",
            "55c080acfa00461084aba7ff39fdb808",
            "84f383041c254e5eba051bd49eb87c91",
            "7362a980eb964ea5818af29d2c1f701d",
            "697e874bd2c64eb5b1fe399605009f0d",
            "f0d5e518f0a14a65b7937a1d8dd10e61",
            "9c76efebf75e40c198179d66bc6a3a47",
            "e1ae03e0b3d64451b923b115d44deb27",
            "31f1ecc49c454afebcd029596679a7cd"
          ]
        },
        "outputId": "50e806fb-65ee-437f-a2d7-542cbdd077d9"
      },
      "source": [
        "mean = [0.485, 0.456, 0.406]\n",
        "std = [0.229, 0.224, 0.225]\n",
        "\n",
        "transform = transforms.Compose([\n",
        "    transforms.Resize((224, 224)),\n",
        "    transforms.ToTensor(),\n",
        "    transforms.Normalize(mean=mean, std=std)\n",
        "    ])\n",
        "\n",
        "trainset = datasets.CIFAR10(root='~/.pytorch/CIFAR10',train=True, download=True,transform=transform)\n",
        "testset = datasets.CIFAR10(root='~/.pytorch/CIFAR10',train=False, transform=transform)\n",
        "\n",
        "trainloader = DataLoader(trainset, batch_size=64, shuffle=True)\n",
        "testloader = DataLoader(testset, batch_size=64, shuffle=False)"
      ],
      "execution_count": 4,
      "outputs": [
        {
          "output_type": "stream",
          "name": "stdout",
          "text": [
            "Downloading https://www.cs.toronto.edu/~kriz/cifar-10-python.tar.gz to /root/.pytorch/CIFAR10/cifar-10-python.tar.gz\n"
          ]
        },
        {
          "output_type": "display_data",
          "data": {
            "application/vnd.jupyter.widget-view+json": {
              "model_id": "0e5c08cf25fd4136a78e1061e1cb1955",
              "version_minor": 0,
              "version_major": 2
            },
            "text/plain": [
              "  0%|          | 0/170498071 [00:00<?, ?it/s]"
            ]
          },
          "metadata": {}
        },
        {
          "output_type": "stream",
          "name": "stdout",
          "text": [
            "Extracting /root/.pytorch/CIFAR10/cifar-10-python.tar.gz to /root/.pytorch/CIFAR10\n"
          ]
        }
      ]
    },
    {
      "cell_type": "code",
      "metadata": {
        "id": "GjwrsEMR3-6D",
        "colab": {
          "base_uri": "https://localhost:8080/",
          "height": 86,
          "referenced_widgets": [
            "5978925559544824b3d7edcdd0d48c4d",
            "52e93f27b7374ea688ba0bd58cda5055",
            "3d1708e10e1741fc8f66778f8e0daac3",
            "9cf0077538374ffb867620ca0871aff9",
            "1c6c1e037ce3450a8ad0256585918047",
            "a5fb7829672849e4b9c781607e29e749",
            "fde9d830da59450cac3ad4edc2fac141",
            "a97cbbe4d03142698c82bcfd420ac08f",
            "4721fb2b444645a0ae009d63b9b2e54e",
            "e3a6e143049c472e81cb2da2a46d784f",
            "35948ca404834f17aed3645d044b88d7"
          ]
        },
        "outputId": "de79b2bb-f91a-4254-f875-a67806f7e1a7"
      },
      "source": [
        "model = models.vgg16(pretrained=True)"
      ],
      "execution_count": 5,
      "outputs": [
        {
          "output_type": "stream",
          "name": "stderr",
          "text": [
            "Downloading: \"https://download.pytorch.org/models/vgg16-397923af.pth\" to /root/.cache/torch/hub/checkpoints/vgg16-397923af.pth\n"
          ]
        },
        {
          "output_type": "display_data",
          "data": {
            "application/vnd.jupyter.widget-view+json": {
              "model_id": "5978925559544824b3d7edcdd0d48c4d",
              "version_minor": 0,
              "version_major": 2
            },
            "text/plain": [
              "  0%|          | 0.00/528M [00:00<?, ?B/s]"
            ]
          },
          "metadata": {}
        }
      ]
    },
    {
      "cell_type": "code",
      "metadata": {
        "id": "Bq9GNfsC3-zD",
        "colab": {
          "base_uri": "https://localhost:8080/"
        },
        "outputId": "da861451-49b5-446d-fa0c-f935d5755d17"
      },
      "source": [
        "model.features"
      ],
      "execution_count": 6,
      "outputs": [
        {
          "output_type": "execute_result",
          "data": {
            "text/plain": [
              "Sequential(\n",
              "  (0): Conv2d(3, 64, kernel_size=(3, 3), stride=(1, 1), padding=(1, 1))\n",
              "  (1): ReLU(inplace=True)\n",
              "  (2): Conv2d(64, 64, kernel_size=(3, 3), stride=(1, 1), padding=(1, 1))\n",
              "  (3): ReLU(inplace=True)\n",
              "  (4): MaxPool2d(kernel_size=2, stride=2, padding=0, dilation=1, ceil_mode=False)\n",
              "  (5): Conv2d(64, 128, kernel_size=(3, 3), stride=(1, 1), padding=(1, 1))\n",
              "  (6): ReLU(inplace=True)\n",
              "  (7): Conv2d(128, 128, kernel_size=(3, 3), stride=(1, 1), padding=(1, 1))\n",
              "  (8): ReLU(inplace=True)\n",
              "  (9): MaxPool2d(kernel_size=2, stride=2, padding=0, dilation=1, ceil_mode=False)\n",
              "  (10): Conv2d(128, 256, kernel_size=(3, 3), stride=(1, 1), padding=(1, 1))\n",
              "  (11): ReLU(inplace=True)\n",
              "  (12): Conv2d(256, 256, kernel_size=(3, 3), stride=(1, 1), padding=(1, 1))\n",
              "  (13): ReLU(inplace=True)\n",
              "  (14): Conv2d(256, 256, kernel_size=(3, 3), stride=(1, 1), padding=(1, 1))\n",
              "  (15): ReLU(inplace=True)\n",
              "  (16): MaxPool2d(kernel_size=2, stride=2, padding=0, dilation=1, ceil_mode=False)\n",
              "  (17): Conv2d(256, 512, kernel_size=(3, 3), stride=(1, 1), padding=(1, 1))\n",
              "  (18): ReLU(inplace=True)\n",
              "  (19): Conv2d(512, 512, kernel_size=(3, 3), stride=(1, 1), padding=(1, 1))\n",
              "  (20): ReLU(inplace=True)\n",
              "  (21): Conv2d(512, 512, kernel_size=(3, 3), stride=(1, 1), padding=(1, 1))\n",
              "  (22): ReLU(inplace=True)\n",
              "  (23): MaxPool2d(kernel_size=2, stride=2, padding=0, dilation=1, ceil_mode=False)\n",
              "  (24): Conv2d(512, 512, kernel_size=(3, 3), stride=(1, 1), padding=(1, 1))\n",
              "  (25): ReLU(inplace=True)\n",
              "  (26): Conv2d(512, 512, kernel_size=(3, 3), stride=(1, 1), padding=(1, 1))\n",
              "  (27): ReLU(inplace=True)\n",
              "  (28): Conv2d(512, 512, kernel_size=(3, 3), stride=(1, 1), padding=(1, 1))\n",
              "  (29): ReLU(inplace=True)\n",
              "  (30): MaxPool2d(kernel_size=2, stride=2, padding=0, dilation=1, ceil_mode=False)\n",
              ")"
            ]
          },
          "metadata": {},
          "execution_count": 6
        }
      ]
    },
    {
      "cell_type": "code",
      "metadata": {
        "id": "GQmpRWNF3-jc",
        "colab": {
          "base_uri": "https://localhost:8080/"
        },
        "outputId": "f56bf464-9b8e-46e7-c789-5c4409e98259"
      },
      "source": [
        "model.classifier"
      ],
      "execution_count": 7,
      "outputs": [
        {
          "output_type": "execute_result",
          "data": {
            "text/plain": [
              "Sequential(\n",
              "  (0): Linear(in_features=25088, out_features=4096, bias=True)\n",
              "  (1): ReLU(inplace=True)\n",
              "  (2): Dropout(p=0.5, inplace=False)\n",
              "  (3): Linear(in_features=4096, out_features=4096, bias=True)\n",
              "  (4): ReLU(inplace=True)\n",
              "  (5): Dropout(p=0.5, inplace=False)\n",
              "  (6): Linear(in_features=4096, out_features=1000, bias=True)\n",
              ")"
            ]
          },
          "metadata": {},
          "execution_count": 7
        }
      ]
    },
    {
      "cell_type": "code",
      "metadata": {
        "id": "zntNd1RP3-g8"
      },
      "source": [
        "for param in model.parameters():\n",
        "  param.requires_grad = False"
      ],
      "execution_count": 8,
      "outputs": []
    },
    {
      "cell_type": "markdown",
      "metadata": {
        "id": "55Vw1wsy6Bm4"
      },
      "source": [
        "False , for using the model as a Fixed Feature Extractor by removing the last fully connected layer.  \n",
        "A way of freezing the earlier layers of VGG to use the pre-trained weights that it has already learnt from it's database of millions of images. We will only update the weights of the last fully connected layer using our Working Dataset."
      ]
    },
    {
      "cell_type": "code",
      "metadata": {
        "id": "FREl9ASC3-er"
      },
      "source": [
        "model.classifier[-1] = nn.Sequential(\n",
        "                       nn.Linear(in_features=4096, out_features=10),\n",
        "                       nn.LogSoftmax(dim=1)\n",
        "                        )"
      ],
      "execution_count": 9,
      "outputs": []
    },
    {
      "cell_type": "markdown",
      "metadata": {
        "id": "wYnMmqm47EEw"
      },
      "source": [
        "Takes the new Linear layer with LogSoftmax and puts it at the last place in the model.   \n",
        "Notice we are changing out_features to 10, as we have 10 classes and adding the activation."
      ]
    },
    {
      "cell_type": "code",
      "metadata": {
        "id": "7PoaL3Ad3-cL",
        "colab": {
          "base_uri": "https://localhost:8080/"
        },
        "outputId": "c17a0ea7-912d-45e9-8771-8f5b79f38407"
      },
      "source": [
        "model.classifier"
      ],
      "execution_count": 10,
      "outputs": [
        {
          "output_type": "execute_result",
          "data": {
            "text/plain": [
              "Sequential(\n",
              "  (0): Linear(in_features=25088, out_features=4096, bias=True)\n",
              "  (1): ReLU(inplace=True)\n",
              "  (2): Dropout(p=0.5, inplace=False)\n",
              "  (3): Linear(in_features=4096, out_features=4096, bias=True)\n",
              "  (4): ReLU(inplace=True)\n",
              "  (5): Dropout(p=0.5, inplace=False)\n",
              "  (6): Sequential(\n",
              "    (0): Linear(in_features=4096, out_features=10, bias=True)\n",
              "    (1): LogSoftmax(dim=1)\n",
              "  )\n",
              ")"
            ]
          },
          "metadata": {},
          "execution_count": 10
        }
      ]
    },
    {
      "cell_type": "code",
      "metadata": {
        "id": "qe-pEtmc3-Zj"
      },
      "source": [
        "criterion = nn.NLLLoss()"
      ],
      "execution_count": 11,
      "outputs": []
    },
    {
      "cell_type": "markdown",
      "metadata": {
        "id": "F1rEMtA37_uh"
      },
      "source": [
        "NLL loss - Negative LogLikelihood Loss.  \n",
        "There's also CrossEntropy loss, if that's used we don't need LogSoftmax in the last layer. Pytorch's implementation includes both.\n",
        "\n"
      ]
    },
    {
      "cell_type": "code",
      "metadata": {
        "id": "SVJwYRtt3-W0"
      },
      "source": [
        ""
      ],
      "execution_count": 11,
      "outputs": []
    },
    {
      "cell_type": "code",
      "metadata": {
        "id": "9f_1LPEC4uXu"
      },
      "source": [
        ""
      ],
      "execution_count": 11,
      "outputs": []
    },
    {
      "cell_type": "code",
      "metadata": {
        "id": "jFMdAmPE4uVO"
      },
      "source": [
        ""
      ],
      "execution_count": 11,
      "outputs": []
    },
    {
      "cell_type": "code",
      "metadata": {
        "id": "Vvl5u4ma3-Tu"
      },
      "source": [
        ""
      ],
      "execution_count": 11,
      "outputs": []
    },
    {
      "cell_type": "markdown",
      "metadata": {
        "id": "3KnVo-JymOUh"
      },
      "source": [
        "## Training the Fixed Feature Extractor"
      ]
    },
    {
      "cell_type": "markdown",
      "metadata": {
        "id": "OA4dgw75eotn"
      },
      "source": [
        "Steps :  \n",
        "1. Take a batch of images and target variables.\n",
        "2. Forward Pass\n",
        "3. Calculate loss of network on batch\n",
        "4. Backward Pass\n",
        "5. Update weights of the required layers (unfrozen layers)(using gradients of the loss) w = w - lr*grad_of_loss\n",
        "6. Take a step with the optmizer, in the right direction. :) \n",
        "7. Don't forget to zero out the gradients if training multiple batches, to keep each of them independent.\n"
      ]
    },
    {
      "cell_type": "code",
      "metadata": {
        "id": "dk9-eEGnxW77"
      },
      "source": [
        "from torch.optim import Adam\n",
        "\n",
        "model = model.to(device)\n",
        "optimizer = Adam(model.parameters())"
      ],
      "execution_count": 12,
      "outputs": []
    },
    {
      "cell_type": "markdown",
      "metadata": {
        "id": "NhkMipkAgRjl"
      },
      "source": [
        "Adam is an extension of SGD, quite some differences but not major. Adamw also released to cover some limitations of adam."
      ]
    },
    {
      "cell_type": "code",
      "metadata": {
        "id": "IVMXEGau5Caf"
      },
      "source": [
        ""
      ],
      "execution_count": 12,
      "outputs": []
    },
    {
      "cell_type": "code",
      "metadata": {
        "id": "s5I7_5I7xawY",
        "colab": {
          "base_uri": "https://localhost:8080/"
        },
        "outputId": "e77a938a-7e4f-4f5c-e6bc-6e7528df63e5"
      },
      "source": [
        "num_epochs = 1\n",
        "batch_loss = 0\n",
        "cum_epoch_loss = 0 #cumulative losses over the epochs\n",
        "\n",
        "for e in range(num_epochs):\n",
        "  cum_epoch_loss = 0\n",
        "  \n",
        "  for batch, (images, labels) in enumerate(trainloader,1):\n",
        "    images = images.to(device)\n",
        "    labels = labels.to(device)\n",
        "\n",
        "    optimizer.zero_grad() #since gradients are also accumulated while doing multiple backward passes with same parameters, \n",
        "                          # hence, need to zero them out for each batch.\n",
        "    logps = model(images) # predictions\n",
        "    loss = criterion(logps, labels) #loss based on mismatch of predicted and true\n",
        "    loss.backward()\n",
        "    optimizer.step()      # optimize weights of the model\n",
        "    \n",
        "    batch_loss += loss.item()\n",
        "    print(f'Epoch({e}/{num_epochs} : Batch number({batch}/{len(trainloader)})  Batch loss : {loss.item()}')\n",
        "    #printing the average loss for the batch.\n",
        "  print(f'Training loss : {batch_loss/len(trainloader)}')  \n",
        "    "
      ],
      "execution_count": 13,
      "outputs": [
        {
          "output_type": "stream",
          "name": "stdout",
          "text": [
            "Epoch(0/1 : Batch number(1/782)  Batch loss : 2.3901445865631104\n",
            "Epoch(0/1 : Batch number(2/782)  Batch loss : 2.1255316734313965\n",
            "Epoch(0/1 : Batch number(3/782)  Batch loss : 2.0556581020355225\n",
            "Epoch(0/1 : Batch number(4/782)  Batch loss : 1.8978369235992432\n",
            "Epoch(0/1 : Batch number(5/782)  Batch loss : 1.7002276182174683\n",
            "Epoch(0/1 : Batch number(6/782)  Batch loss : 1.6189216375350952\n",
            "Epoch(0/1 : Batch number(7/782)  Batch loss : 1.510068655014038\n",
            "Epoch(0/1 : Batch number(8/782)  Batch loss : 1.3458189964294434\n",
            "Epoch(0/1 : Batch number(9/782)  Batch loss : 1.312595248222351\n",
            "Epoch(0/1 : Batch number(10/782)  Batch loss : 1.2988550662994385\n",
            "Epoch(0/1 : Batch number(11/782)  Batch loss : 1.2341896295547485\n",
            "Epoch(0/1 : Batch number(12/782)  Batch loss : 1.2216652631759644\n",
            "Epoch(0/1 : Batch number(13/782)  Batch loss : 1.0582250356674194\n",
            "Epoch(0/1 : Batch number(14/782)  Batch loss : 0.9364659190177917\n",
            "Epoch(0/1 : Batch number(15/782)  Batch loss : 1.0799226760864258\n",
            "Epoch(0/1 : Batch number(16/782)  Batch loss : 0.9297678470611572\n",
            "Epoch(0/1 : Batch number(17/782)  Batch loss : 0.9744898080825806\n",
            "Epoch(0/1 : Batch number(18/782)  Batch loss : 0.9424195289611816\n",
            "Epoch(0/1 : Batch number(19/782)  Batch loss : 0.7408382892608643\n",
            "Epoch(0/1 : Batch number(20/782)  Batch loss : 0.9416201114654541\n",
            "Epoch(0/1 : Batch number(21/782)  Batch loss : 1.0093010663986206\n",
            "Epoch(0/1 : Batch number(22/782)  Batch loss : 0.7569746971130371\n",
            "Epoch(0/1 : Batch number(23/782)  Batch loss : 0.9130102396011353\n",
            "Epoch(0/1 : Batch number(24/782)  Batch loss : 0.8330979347229004\n",
            "Epoch(0/1 : Batch number(25/782)  Batch loss : 0.7128530740737915\n",
            "Epoch(0/1 : Batch number(26/782)  Batch loss : 0.9383785128593445\n",
            "Epoch(0/1 : Batch number(27/782)  Batch loss : 0.8416566848754883\n",
            "Epoch(0/1 : Batch number(28/782)  Batch loss : 0.7936564087867737\n",
            "Epoch(0/1 : Batch number(29/782)  Batch loss : 0.6080948114395142\n",
            "Epoch(0/1 : Batch number(30/782)  Batch loss : 0.8790294528007507\n",
            "Epoch(0/1 : Batch number(31/782)  Batch loss : 0.7018480896949768\n",
            "Epoch(0/1 : Batch number(32/782)  Batch loss : 1.037452220916748\n",
            "Epoch(0/1 : Batch number(33/782)  Batch loss : 0.6966602802276611\n",
            "Epoch(0/1 : Batch number(34/782)  Batch loss : 0.8868516087532043\n",
            "Epoch(0/1 : Batch number(35/782)  Batch loss : 0.8414997458457947\n",
            "Epoch(0/1 : Batch number(36/782)  Batch loss : 0.7183804512023926\n",
            "Epoch(0/1 : Batch number(37/782)  Batch loss : 0.6307449340820312\n",
            "Epoch(0/1 : Batch number(38/782)  Batch loss : 0.8474252223968506\n",
            "Epoch(0/1 : Batch number(39/782)  Batch loss : 0.7122550010681152\n",
            "Epoch(0/1 : Batch number(40/782)  Batch loss : 0.8880887031555176\n",
            "Epoch(0/1 : Batch number(41/782)  Batch loss : 0.7443872690200806\n",
            "Epoch(0/1 : Batch number(42/782)  Batch loss : 0.7626718282699585\n",
            "Epoch(0/1 : Batch number(43/782)  Batch loss : 0.6400176286697388\n",
            "Epoch(0/1 : Batch number(44/782)  Batch loss : 0.6927621364593506\n",
            "Epoch(0/1 : Batch number(45/782)  Batch loss : 0.8366213440895081\n",
            "Epoch(0/1 : Batch number(46/782)  Batch loss : 0.7831069231033325\n",
            "Epoch(0/1 : Batch number(47/782)  Batch loss : 0.7045388221740723\n",
            "Epoch(0/1 : Batch number(48/782)  Batch loss : 0.7445067167282104\n",
            "Epoch(0/1 : Batch number(49/782)  Batch loss : 0.5823467969894409\n",
            "Epoch(0/1 : Batch number(50/782)  Batch loss : 0.6462187170982361\n",
            "Epoch(0/1 : Batch number(51/782)  Batch loss : 0.5665556192398071\n",
            "Epoch(0/1 : Batch number(52/782)  Batch loss : 0.7871861457824707\n",
            "Epoch(0/1 : Batch number(53/782)  Batch loss : 0.9239361882209778\n",
            "Epoch(0/1 : Batch number(54/782)  Batch loss : 0.6211785674095154\n",
            "Epoch(0/1 : Batch number(55/782)  Batch loss : 0.5809224247932434\n",
            "Epoch(0/1 : Batch number(56/782)  Batch loss : 0.7406252026557922\n",
            "Epoch(0/1 : Batch number(57/782)  Batch loss : 0.7110092043876648\n",
            "Epoch(0/1 : Batch number(58/782)  Batch loss : 0.8305613398551941\n",
            "Epoch(0/1 : Batch number(59/782)  Batch loss : 0.7820004224777222\n",
            "Epoch(0/1 : Batch number(60/782)  Batch loss : 0.9181248545646667\n",
            "Epoch(0/1 : Batch number(61/782)  Batch loss : 0.7697097063064575\n",
            "Epoch(0/1 : Batch number(62/782)  Batch loss : 0.6754327416419983\n",
            "Epoch(0/1 : Batch number(63/782)  Batch loss : 0.8111292719841003\n",
            "Epoch(0/1 : Batch number(64/782)  Batch loss : 0.8684170842170715\n",
            "Epoch(0/1 : Batch number(65/782)  Batch loss : 0.608443558216095\n",
            "Epoch(0/1 : Batch number(66/782)  Batch loss : 0.7361510992050171\n",
            "Epoch(0/1 : Batch number(67/782)  Batch loss : 0.7144566774368286\n",
            "Epoch(0/1 : Batch number(68/782)  Batch loss : 0.6618934273719788\n",
            "Epoch(0/1 : Batch number(69/782)  Batch loss : 0.4923778474330902\n",
            "Epoch(0/1 : Batch number(70/782)  Batch loss : 0.6239221692085266\n",
            "Epoch(0/1 : Batch number(71/782)  Batch loss : 0.49493518471717834\n",
            "Epoch(0/1 : Batch number(72/782)  Batch loss : 0.7370982766151428\n",
            "Epoch(0/1 : Batch number(73/782)  Batch loss : 0.8547981977462769\n",
            "Epoch(0/1 : Batch number(74/782)  Batch loss : 0.6761508584022522\n",
            "Epoch(0/1 : Batch number(75/782)  Batch loss : 0.6879342794418335\n",
            "Epoch(0/1 : Batch number(76/782)  Batch loss : 0.5389743447303772\n",
            "Epoch(0/1 : Batch number(77/782)  Batch loss : 0.6870346069335938\n",
            "Epoch(0/1 : Batch number(78/782)  Batch loss : 0.7077741026878357\n",
            "Epoch(0/1 : Batch number(79/782)  Batch loss : 0.56941157579422\n",
            "Epoch(0/1 : Batch number(80/782)  Batch loss : 0.6050096750259399\n",
            "Epoch(0/1 : Batch number(81/782)  Batch loss : 0.6398022174835205\n",
            "Epoch(0/1 : Batch number(82/782)  Batch loss : 0.7591028809547424\n",
            "Epoch(0/1 : Batch number(83/782)  Batch loss : 0.5623863935470581\n",
            "Epoch(0/1 : Batch number(84/782)  Batch loss : 0.7088811993598938\n",
            "Epoch(0/1 : Batch number(85/782)  Batch loss : 0.6852604746818542\n",
            "Epoch(0/1 : Batch number(86/782)  Batch loss : 0.5812808275222778\n",
            "Epoch(0/1 : Batch number(87/782)  Batch loss : 0.7407111525535583\n",
            "Epoch(0/1 : Batch number(88/782)  Batch loss : 0.6899240612983704\n",
            "Epoch(0/1 : Batch number(89/782)  Batch loss : 0.6361709237098694\n",
            "Epoch(0/1 : Batch number(90/782)  Batch loss : 0.6484766006469727\n",
            "Epoch(0/1 : Batch number(91/782)  Batch loss : 0.7120241522789001\n",
            "Epoch(0/1 : Batch number(92/782)  Batch loss : 0.779614269733429\n",
            "Epoch(0/1 : Batch number(93/782)  Batch loss : 0.5573940873146057\n",
            "Epoch(0/1 : Batch number(94/782)  Batch loss : 0.7011387348175049\n",
            "Epoch(0/1 : Batch number(95/782)  Batch loss : 0.6999359130859375\n",
            "Epoch(0/1 : Batch number(96/782)  Batch loss : 0.7204235196113586\n",
            "Epoch(0/1 : Batch number(97/782)  Batch loss : 0.5014047026634216\n",
            "Epoch(0/1 : Batch number(98/782)  Batch loss : 0.5227229595184326\n",
            "Epoch(0/1 : Batch number(99/782)  Batch loss : 0.5434587597846985\n",
            "Epoch(0/1 : Batch number(100/782)  Batch loss : 0.6501579284667969\n",
            "Epoch(0/1 : Batch number(101/782)  Batch loss : 0.6063812375068665\n",
            "Epoch(0/1 : Batch number(102/782)  Batch loss : 0.7111709713935852\n",
            "Epoch(0/1 : Batch number(103/782)  Batch loss : 0.584577739238739\n",
            "Epoch(0/1 : Batch number(104/782)  Batch loss : 0.649937093257904\n",
            "Epoch(0/1 : Batch number(105/782)  Batch loss : 0.5913593769073486\n",
            "Epoch(0/1 : Batch number(106/782)  Batch loss : 0.6609473824501038\n",
            "Epoch(0/1 : Batch number(107/782)  Batch loss : 0.5536978244781494\n",
            "Epoch(0/1 : Batch number(108/782)  Batch loss : 0.3683013319969177\n",
            "Epoch(0/1 : Batch number(109/782)  Batch loss : 0.6965884566307068\n",
            "Epoch(0/1 : Batch number(110/782)  Batch loss : 0.7665451169013977\n",
            "Epoch(0/1 : Batch number(111/782)  Batch loss : 0.613770067691803\n",
            "Epoch(0/1 : Batch number(112/782)  Batch loss : 0.7364100217819214\n",
            "Epoch(0/1 : Batch number(113/782)  Batch loss : 0.6084572076797485\n",
            "Epoch(0/1 : Batch number(114/782)  Batch loss : 0.5942786931991577\n",
            "Epoch(0/1 : Batch number(115/782)  Batch loss : 0.6635889410972595\n",
            "Epoch(0/1 : Batch number(116/782)  Batch loss : 0.6376973986625671\n",
            "Epoch(0/1 : Batch number(117/782)  Batch loss : 0.6788050532341003\n",
            "Epoch(0/1 : Batch number(118/782)  Batch loss : 0.7283627390861511\n",
            "Epoch(0/1 : Batch number(119/782)  Batch loss : 0.7568678259849548\n",
            "Epoch(0/1 : Batch number(120/782)  Batch loss : 0.6393164396286011\n",
            "Epoch(0/1 : Batch number(121/782)  Batch loss : 0.6465005278587341\n",
            "Epoch(0/1 : Batch number(122/782)  Batch loss : 0.752918004989624\n",
            "Epoch(0/1 : Batch number(123/782)  Batch loss : 0.63236403465271\n",
            "Epoch(0/1 : Batch number(124/782)  Batch loss : 0.7932626008987427\n",
            "Epoch(0/1 : Batch number(125/782)  Batch loss : 0.65638267993927\n",
            "Epoch(0/1 : Batch number(126/782)  Batch loss : 1.033225655555725\n",
            "Epoch(0/1 : Batch number(127/782)  Batch loss : 0.7679179310798645\n",
            "Epoch(0/1 : Batch number(128/782)  Batch loss : 0.7873898148536682\n",
            "Epoch(0/1 : Batch number(129/782)  Batch loss : 0.5785332322120667\n",
            "Epoch(0/1 : Batch number(130/782)  Batch loss : 0.7660121321678162\n",
            "Epoch(0/1 : Batch number(131/782)  Batch loss : 0.633045494556427\n",
            "Epoch(0/1 : Batch number(132/782)  Batch loss : 0.7000677585601807\n",
            "Epoch(0/1 : Batch number(133/782)  Batch loss : 0.48107677698135376\n",
            "Epoch(0/1 : Batch number(134/782)  Batch loss : 0.6130563020706177\n",
            "Epoch(0/1 : Batch number(135/782)  Batch loss : 0.8332776427268982\n",
            "Epoch(0/1 : Batch number(136/782)  Batch loss : 0.6141224503517151\n",
            "Epoch(0/1 : Batch number(137/782)  Batch loss : 0.4129464328289032\n",
            "Epoch(0/1 : Batch number(138/782)  Batch loss : 0.6525188684463501\n",
            "Epoch(0/1 : Batch number(139/782)  Batch loss : 0.5111159682273865\n",
            "Epoch(0/1 : Batch number(140/782)  Batch loss : 0.6141936182975769\n",
            "Epoch(0/1 : Batch number(141/782)  Batch loss : 0.5234015583992004\n",
            "Epoch(0/1 : Batch number(142/782)  Batch loss : 0.7286024689674377\n",
            "Epoch(0/1 : Batch number(143/782)  Batch loss : 0.5893959403038025\n",
            "Epoch(0/1 : Batch number(144/782)  Batch loss : 0.5983782410621643\n",
            "Epoch(0/1 : Batch number(145/782)  Batch loss : 0.7017892003059387\n",
            "Epoch(0/1 : Batch number(146/782)  Batch loss : 0.6987802386283875\n",
            "Epoch(0/1 : Batch number(147/782)  Batch loss : 0.6134070754051208\n",
            "Epoch(0/1 : Batch number(148/782)  Batch loss : 0.7800586819648743\n",
            "Epoch(0/1 : Batch number(149/782)  Batch loss : 0.7624986171722412\n",
            "Epoch(0/1 : Batch number(150/782)  Batch loss : 0.6401694416999817\n",
            "Epoch(0/1 : Batch number(151/782)  Batch loss : 0.623799204826355\n",
            "Epoch(0/1 : Batch number(152/782)  Batch loss : 0.36175042390823364\n",
            "Epoch(0/1 : Batch number(153/782)  Batch loss : 0.48744750022888184\n",
            "Epoch(0/1 : Batch number(154/782)  Batch loss : 0.8552283644676208\n",
            "Epoch(0/1 : Batch number(155/782)  Batch loss : 0.8458523154258728\n",
            "Epoch(0/1 : Batch number(156/782)  Batch loss : 0.7835681438446045\n",
            "Epoch(0/1 : Batch number(157/782)  Batch loss : 0.7180340886116028\n",
            "Epoch(0/1 : Batch number(158/782)  Batch loss : 0.6131056547164917\n",
            "Epoch(0/1 : Batch number(159/782)  Batch loss : 0.5149204730987549\n",
            "Epoch(0/1 : Batch number(160/782)  Batch loss : 0.8920459747314453\n",
            "Epoch(0/1 : Batch number(161/782)  Batch loss : 0.5923068523406982\n",
            "Epoch(0/1 : Batch number(162/782)  Batch loss : 0.5127967000007629\n",
            "Epoch(0/1 : Batch number(163/782)  Batch loss : 0.7645049691200256\n",
            "Epoch(0/1 : Batch number(164/782)  Batch loss : 0.6690607666969299\n",
            "Epoch(0/1 : Batch number(165/782)  Batch loss : 0.5841055512428284\n",
            "Epoch(0/1 : Batch number(166/782)  Batch loss : 0.6302685737609863\n",
            "Epoch(0/1 : Batch number(167/782)  Batch loss : 0.572199821472168\n",
            "Epoch(0/1 : Batch number(168/782)  Batch loss : 0.5470360517501831\n",
            "Epoch(0/1 : Batch number(169/782)  Batch loss : 0.5910762548446655\n",
            "Epoch(0/1 : Batch number(170/782)  Batch loss : 0.7773887515068054\n",
            "Epoch(0/1 : Batch number(171/782)  Batch loss : 0.7233703136444092\n",
            "Epoch(0/1 : Batch number(172/782)  Batch loss : 0.5384657382965088\n",
            "Epoch(0/1 : Batch number(173/782)  Batch loss : 0.6672482490539551\n",
            "Epoch(0/1 : Batch number(174/782)  Batch loss : 0.6770638823509216\n",
            "Epoch(0/1 : Batch number(175/782)  Batch loss : 0.661348819732666\n",
            "Epoch(0/1 : Batch number(176/782)  Batch loss : 0.43637779355049133\n",
            "Epoch(0/1 : Batch number(177/782)  Batch loss : 0.579075276851654\n",
            "Epoch(0/1 : Batch number(178/782)  Batch loss : 0.5707244873046875\n",
            "Epoch(0/1 : Batch number(179/782)  Batch loss : 0.37879839539527893\n",
            "Epoch(0/1 : Batch number(180/782)  Batch loss : 0.8402658700942993\n",
            "Epoch(0/1 : Batch number(181/782)  Batch loss : 0.6601500511169434\n",
            "Epoch(0/1 : Batch number(182/782)  Batch loss : 0.6091510653495789\n",
            "Epoch(0/1 : Batch number(183/782)  Batch loss : 0.7117633819580078\n",
            "Epoch(0/1 : Batch number(184/782)  Batch loss : 0.44328105449676514\n",
            "Epoch(0/1 : Batch number(185/782)  Batch loss : 0.7338970899581909\n",
            "Epoch(0/1 : Batch number(186/782)  Batch loss : 0.7110626697540283\n",
            "Epoch(0/1 : Batch number(187/782)  Batch loss : 0.9129806160926819\n",
            "Epoch(0/1 : Batch number(188/782)  Batch loss : 0.4618455767631531\n",
            "Epoch(0/1 : Batch number(189/782)  Batch loss : 0.5271903872489929\n",
            "Epoch(0/1 : Batch number(190/782)  Batch loss : 0.7201880216598511\n",
            "Epoch(0/1 : Batch number(191/782)  Batch loss : 0.6348729729652405\n",
            "Epoch(0/1 : Batch number(192/782)  Batch loss : 0.7028607726097107\n",
            "Epoch(0/1 : Batch number(193/782)  Batch loss : 0.6053398251533508\n",
            "Epoch(0/1 : Batch number(194/782)  Batch loss : 0.49232780933380127\n",
            "Epoch(0/1 : Batch number(195/782)  Batch loss : 0.7413308024406433\n",
            "Epoch(0/1 : Batch number(196/782)  Batch loss : 0.5821039080619812\n",
            "Epoch(0/1 : Batch number(197/782)  Batch loss : 0.6838386654853821\n",
            "Epoch(0/1 : Batch number(198/782)  Batch loss : 0.5320425033569336\n",
            "Epoch(0/1 : Batch number(199/782)  Batch loss : 0.6909264326095581\n",
            "Epoch(0/1 : Batch number(200/782)  Batch loss : 0.6320499777793884\n",
            "Epoch(0/1 : Batch number(201/782)  Batch loss : 0.5175042748451233\n",
            "Epoch(0/1 : Batch number(202/782)  Batch loss : 0.5910933017730713\n",
            "Epoch(0/1 : Batch number(203/782)  Batch loss : 0.5333672165870667\n",
            "Epoch(0/1 : Batch number(204/782)  Batch loss : 0.6282561421394348\n",
            "Epoch(0/1 : Batch number(205/782)  Batch loss : 0.6232017278671265\n",
            "Epoch(0/1 : Batch number(206/782)  Batch loss : 0.4541226029396057\n",
            "Epoch(0/1 : Batch number(207/782)  Batch loss : 0.4055246114730835\n",
            "Epoch(0/1 : Batch number(208/782)  Batch loss : 0.7750204801559448\n",
            "Epoch(0/1 : Batch number(209/782)  Batch loss : 0.7686463594436646\n",
            "Epoch(0/1 : Batch number(210/782)  Batch loss : 0.6339121460914612\n",
            "Epoch(0/1 : Batch number(211/782)  Batch loss : 0.5117594599723816\n",
            "Epoch(0/1 : Batch number(212/782)  Batch loss : 0.5002648830413818\n",
            "Epoch(0/1 : Batch number(213/782)  Batch loss : 0.7508573532104492\n",
            "Epoch(0/1 : Batch number(214/782)  Batch loss : 0.7707077264785767\n",
            "Epoch(0/1 : Batch number(215/782)  Batch loss : 0.5128673911094666\n",
            "Epoch(0/1 : Batch number(216/782)  Batch loss : 0.604076623916626\n",
            "Epoch(0/1 : Batch number(217/782)  Batch loss : 0.6319543719291687\n",
            "Epoch(0/1 : Batch number(218/782)  Batch loss : 0.8036888837814331\n",
            "Epoch(0/1 : Batch number(219/782)  Batch loss : 0.7436910271644592\n",
            "Epoch(0/1 : Batch number(220/782)  Batch loss : 0.5965662002563477\n",
            "Epoch(0/1 : Batch number(221/782)  Batch loss : 0.5060688257217407\n",
            "Epoch(0/1 : Batch number(222/782)  Batch loss : 0.4051017463207245\n",
            "Epoch(0/1 : Batch number(223/782)  Batch loss : 0.6980574131011963\n",
            "Epoch(0/1 : Batch number(224/782)  Batch loss : 0.6500841379165649\n",
            "Epoch(0/1 : Batch number(225/782)  Batch loss : 0.6941242218017578\n",
            "Epoch(0/1 : Batch number(226/782)  Batch loss : 0.593506932258606\n",
            "Epoch(0/1 : Batch number(227/782)  Batch loss : 0.692541241645813\n",
            "Epoch(0/1 : Batch number(228/782)  Batch loss : 0.6181467175483704\n",
            "Epoch(0/1 : Batch number(229/782)  Batch loss : 0.9286728501319885\n",
            "Epoch(0/1 : Batch number(230/782)  Batch loss : 0.6874174475669861\n",
            "Epoch(0/1 : Batch number(231/782)  Batch loss : 0.7433385252952576\n",
            "Epoch(0/1 : Batch number(232/782)  Batch loss : 0.4039691686630249\n",
            "Epoch(0/1 : Batch number(233/782)  Batch loss : 0.7135698795318604\n",
            "Epoch(0/1 : Batch number(234/782)  Batch loss : 0.4430047273635864\n",
            "Epoch(0/1 : Batch number(235/782)  Batch loss : 0.6373184323310852\n",
            "Epoch(0/1 : Batch number(236/782)  Batch loss : 0.513161301612854\n",
            "Epoch(0/1 : Batch number(237/782)  Batch loss : 0.6721684336662292\n",
            "Epoch(0/1 : Batch number(238/782)  Batch loss : 0.6138023138046265\n",
            "Epoch(0/1 : Batch number(239/782)  Batch loss : 0.6066623330116272\n",
            "Epoch(0/1 : Batch number(240/782)  Batch loss : 0.5827072262763977\n",
            "Epoch(0/1 : Batch number(241/782)  Batch loss : 0.6794458031654358\n",
            "Epoch(0/1 : Batch number(242/782)  Batch loss : 0.6820230484008789\n",
            "Epoch(0/1 : Batch number(243/782)  Batch loss : 0.5482875108718872\n",
            "Epoch(0/1 : Batch number(244/782)  Batch loss : 0.5385473370552063\n",
            "Epoch(0/1 : Batch number(245/782)  Batch loss : 0.5634690523147583\n",
            "Epoch(0/1 : Batch number(246/782)  Batch loss : 0.6109141707420349\n",
            "Epoch(0/1 : Batch number(247/782)  Batch loss : 0.6665869355201721\n",
            "Epoch(0/1 : Batch number(248/782)  Batch loss : 0.5696961879730225\n",
            "Epoch(0/1 : Batch number(249/782)  Batch loss : 0.5489038825035095\n",
            "Epoch(0/1 : Batch number(250/782)  Batch loss : 0.7094333171844482\n",
            "Epoch(0/1 : Batch number(251/782)  Batch loss : 0.44528526067733765\n",
            "Epoch(0/1 : Batch number(252/782)  Batch loss : 0.4488372802734375\n",
            "Epoch(0/1 : Batch number(253/782)  Batch loss : 0.43934133648872375\n",
            "Epoch(0/1 : Batch number(254/782)  Batch loss : 0.6370014548301697\n",
            "Epoch(0/1 : Batch number(255/782)  Batch loss : 0.6354816555976868\n",
            "Epoch(0/1 : Batch number(256/782)  Batch loss : 0.7726158499717712\n",
            "Epoch(0/1 : Batch number(257/782)  Batch loss : 0.5021875500679016\n",
            "Epoch(0/1 : Batch number(258/782)  Batch loss : 0.525976300239563\n",
            "Epoch(0/1 : Batch number(259/782)  Batch loss : 0.5766637325286865\n",
            "Epoch(0/1 : Batch number(260/782)  Batch loss : 0.5885981321334839\n",
            "Epoch(0/1 : Batch number(261/782)  Batch loss : 0.5784664154052734\n",
            "Epoch(0/1 : Batch number(262/782)  Batch loss : 0.7230452299118042\n",
            "Epoch(0/1 : Batch number(263/782)  Batch loss : 0.6250566840171814\n",
            "Epoch(0/1 : Batch number(264/782)  Batch loss : 0.5873293876647949\n",
            "Epoch(0/1 : Batch number(265/782)  Batch loss : 0.6484494209289551\n",
            "Epoch(0/1 : Batch number(266/782)  Batch loss : 0.5042542815208435\n",
            "Epoch(0/1 : Batch number(267/782)  Batch loss : 0.8458486795425415\n",
            "Epoch(0/1 : Batch number(268/782)  Batch loss : 0.7841501832008362\n",
            "Epoch(0/1 : Batch number(269/782)  Batch loss : 0.5366231799125671\n",
            "Epoch(0/1 : Batch number(270/782)  Batch loss : 0.5332147479057312\n",
            "Epoch(0/1 : Batch number(271/782)  Batch loss : 0.6922799348831177\n",
            "Epoch(0/1 : Batch number(272/782)  Batch loss : 0.7314597368240356\n",
            "Epoch(0/1 : Batch number(273/782)  Batch loss : 0.6751082539558411\n",
            "Epoch(0/1 : Batch number(274/782)  Batch loss : 0.5314549803733826\n",
            "Epoch(0/1 : Batch number(275/782)  Batch loss : 0.5456578135490417\n",
            "Epoch(0/1 : Batch number(276/782)  Batch loss : 0.5833170413970947\n",
            "Epoch(0/1 : Batch number(277/782)  Batch loss : 0.5295517444610596\n",
            "Epoch(0/1 : Batch number(278/782)  Batch loss : 0.38743096590042114\n",
            "Epoch(0/1 : Batch number(279/782)  Batch loss : 0.6219987869262695\n",
            "Epoch(0/1 : Batch number(280/782)  Batch loss : 0.8062887787818909\n",
            "Epoch(0/1 : Batch number(281/782)  Batch loss : 0.637704610824585\n",
            "Epoch(0/1 : Batch number(282/782)  Batch loss : 0.5201149582862854\n",
            "Epoch(0/1 : Batch number(283/782)  Batch loss : 0.48500314354896545\n",
            "Epoch(0/1 : Batch number(284/782)  Batch loss : 0.6636552810668945\n",
            "Epoch(0/1 : Batch number(285/782)  Batch loss : 0.844572901725769\n",
            "Epoch(0/1 : Batch number(286/782)  Batch loss : 0.864658534526825\n",
            "Epoch(0/1 : Batch number(287/782)  Batch loss : 0.6941902041435242\n",
            "Epoch(0/1 : Batch number(288/782)  Batch loss : 0.6748283505439758\n",
            "Epoch(0/1 : Batch number(289/782)  Batch loss : 0.4329144060611725\n",
            "Epoch(0/1 : Batch number(290/782)  Batch loss : 0.5563998222351074\n",
            "Epoch(0/1 : Batch number(291/782)  Batch loss : 0.4315263330936432\n",
            "Epoch(0/1 : Batch number(292/782)  Batch loss : 0.46272844076156616\n",
            "Epoch(0/1 : Batch number(293/782)  Batch loss : 0.8412774801254272\n",
            "Epoch(0/1 : Batch number(294/782)  Batch loss : 0.47674861550331116\n",
            "Epoch(0/1 : Batch number(295/782)  Batch loss : 0.4030682146549225\n",
            "Epoch(0/1 : Batch number(296/782)  Batch loss : 0.7465256452560425\n",
            "Epoch(0/1 : Batch number(297/782)  Batch loss : 0.8157072067260742\n",
            "Epoch(0/1 : Batch number(298/782)  Batch loss : 0.6667912602424622\n",
            "Epoch(0/1 : Batch number(299/782)  Batch loss : 0.7205114364624023\n",
            "Epoch(0/1 : Batch number(300/782)  Batch loss : 0.5782456994056702\n",
            "Epoch(0/1 : Batch number(301/782)  Batch loss : 0.47260719537734985\n",
            "Epoch(0/1 : Batch number(302/782)  Batch loss : 0.7029688954353333\n",
            "Epoch(0/1 : Batch number(303/782)  Batch loss : 0.49802830815315247\n",
            "Epoch(0/1 : Batch number(304/782)  Batch loss : 0.570469856262207\n",
            "Epoch(0/1 : Batch number(305/782)  Batch loss : 0.6307920217514038\n",
            "Epoch(0/1 : Batch number(306/782)  Batch loss : 0.5164560675621033\n",
            "Epoch(0/1 : Batch number(307/782)  Batch loss : 0.5304226875305176\n",
            "Epoch(0/1 : Batch number(308/782)  Batch loss : 0.5997282862663269\n",
            "Epoch(0/1 : Batch number(309/782)  Batch loss : 0.5931339263916016\n",
            "Epoch(0/1 : Batch number(310/782)  Batch loss : 0.5889490246772766\n",
            "Epoch(0/1 : Batch number(311/782)  Batch loss : 0.48575782775878906\n",
            "Epoch(0/1 : Batch number(312/782)  Batch loss : 0.7987461090087891\n",
            "Epoch(0/1 : Batch number(313/782)  Batch loss : 0.7657309174537659\n",
            "Epoch(0/1 : Batch number(314/782)  Batch loss : 0.6071453094482422\n",
            "Epoch(0/1 : Batch number(315/782)  Batch loss : 0.47321903705596924\n",
            "Epoch(0/1 : Batch number(316/782)  Batch loss : 0.658541738986969\n",
            "Epoch(0/1 : Batch number(317/782)  Batch loss : 0.3671955466270447\n",
            "Epoch(0/1 : Batch number(318/782)  Batch loss : 0.5901560187339783\n",
            "Epoch(0/1 : Batch number(319/782)  Batch loss : 0.6213231086730957\n",
            "Epoch(0/1 : Batch number(320/782)  Batch loss : 0.8882960081100464\n",
            "Epoch(0/1 : Batch number(321/782)  Batch loss : 0.8469650149345398\n",
            "Epoch(0/1 : Batch number(322/782)  Batch loss : 0.6144458651542664\n",
            "Epoch(0/1 : Batch number(323/782)  Batch loss : 0.5993914008140564\n",
            "Epoch(0/1 : Batch number(324/782)  Batch loss : 0.35496845841407776\n",
            "Epoch(0/1 : Batch number(325/782)  Batch loss : 0.6604585647583008\n",
            "Epoch(0/1 : Batch number(326/782)  Batch loss : 0.7329321503639221\n",
            "Epoch(0/1 : Batch number(327/782)  Batch loss : 0.47836172580718994\n",
            "Epoch(0/1 : Batch number(328/782)  Batch loss : 0.7664750814437866\n",
            "Epoch(0/1 : Batch number(329/782)  Batch loss : 0.8481912016868591\n",
            "Epoch(0/1 : Batch number(330/782)  Batch loss : 0.655473530292511\n",
            "Epoch(0/1 : Batch number(331/782)  Batch loss : 0.834242045879364\n",
            "Epoch(0/1 : Batch number(332/782)  Batch loss : 0.4231761693954468\n",
            "Epoch(0/1 : Batch number(333/782)  Batch loss : 0.5126821398735046\n",
            "Epoch(0/1 : Batch number(334/782)  Batch loss : 0.8025072813034058\n",
            "Epoch(0/1 : Batch number(335/782)  Batch loss : 0.6979235410690308\n",
            "Epoch(0/1 : Batch number(336/782)  Batch loss : 0.7109194993972778\n",
            "Epoch(0/1 : Batch number(337/782)  Batch loss : 0.49187803268432617\n",
            "Epoch(0/1 : Batch number(338/782)  Batch loss : 0.705215573310852\n",
            "Epoch(0/1 : Batch number(339/782)  Batch loss : 0.6101049780845642\n",
            "Epoch(0/1 : Batch number(340/782)  Batch loss : 0.5586012601852417\n",
            "Epoch(0/1 : Batch number(341/782)  Batch loss : 0.6010298728942871\n",
            "Epoch(0/1 : Batch number(342/782)  Batch loss : 0.6405918598175049\n",
            "Epoch(0/1 : Batch number(343/782)  Batch loss : 0.5852090120315552\n",
            "Epoch(0/1 : Batch number(344/782)  Batch loss : 0.49924954771995544\n",
            "Epoch(0/1 : Batch number(345/782)  Batch loss : 0.5931710004806519\n",
            "Epoch(0/1 : Batch number(346/782)  Batch loss : 0.49400794506073\n",
            "Epoch(0/1 : Batch number(347/782)  Batch loss : 0.5706587433815002\n",
            "Epoch(0/1 : Batch number(348/782)  Batch loss : 0.8272271156311035\n",
            "Epoch(0/1 : Batch number(349/782)  Batch loss : 0.593826949596405\n",
            "Epoch(0/1 : Batch number(350/782)  Batch loss : 0.5912580490112305\n",
            "Epoch(0/1 : Batch number(351/782)  Batch loss : 0.611990213394165\n",
            "Epoch(0/1 : Batch number(352/782)  Batch loss : 0.5170259475708008\n",
            "Epoch(0/1 : Batch number(353/782)  Batch loss : 0.7563151717185974\n",
            "Epoch(0/1 : Batch number(354/782)  Batch loss : 0.4960879683494568\n",
            "Epoch(0/1 : Batch number(355/782)  Batch loss : 0.5958833694458008\n",
            "Epoch(0/1 : Batch number(356/782)  Batch loss : 0.5000667572021484\n",
            "Epoch(0/1 : Batch number(357/782)  Batch loss : 0.4986739754676819\n",
            "Epoch(0/1 : Batch number(358/782)  Batch loss : 0.586937427520752\n",
            "Epoch(0/1 : Batch number(359/782)  Batch loss : 0.5541934967041016\n",
            "Epoch(0/1 : Batch number(360/782)  Batch loss : 0.4789869487285614\n",
            "Epoch(0/1 : Batch number(361/782)  Batch loss : 0.7026510238647461\n",
            "Epoch(0/1 : Batch number(362/782)  Batch loss : 0.6372687220573425\n",
            "Epoch(0/1 : Batch number(363/782)  Batch loss : 0.5140638947486877\n",
            "Epoch(0/1 : Batch number(364/782)  Batch loss : 0.6509191393852234\n",
            "Epoch(0/1 : Batch number(365/782)  Batch loss : 0.6000015735626221\n",
            "Epoch(0/1 : Batch number(366/782)  Batch loss : 0.8590884208679199\n",
            "Epoch(0/1 : Batch number(367/782)  Batch loss : 0.4449414908885956\n",
            "Epoch(0/1 : Batch number(368/782)  Batch loss : 0.4330696165561676\n",
            "Epoch(0/1 : Batch number(369/782)  Batch loss : 0.5332685708999634\n",
            "Epoch(0/1 : Batch number(370/782)  Batch loss : 0.6726556420326233\n",
            "Epoch(0/1 : Batch number(371/782)  Batch loss : 0.5887818932533264\n",
            "Epoch(0/1 : Batch number(372/782)  Batch loss : 0.5622121691703796\n",
            "Epoch(0/1 : Batch number(373/782)  Batch loss : 0.6336259245872498\n",
            "Epoch(0/1 : Batch number(374/782)  Batch loss : 0.6542779207229614\n",
            "Epoch(0/1 : Batch number(375/782)  Batch loss : 0.5859606862068176\n",
            "Epoch(0/1 : Batch number(376/782)  Batch loss : 0.6406575441360474\n",
            "Epoch(0/1 : Batch number(377/782)  Batch loss : 0.7201220989227295\n",
            "Epoch(0/1 : Batch number(378/782)  Batch loss : 0.3236325979232788\n",
            "Epoch(0/1 : Batch number(379/782)  Batch loss : 0.4835161566734314\n",
            "Epoch(0/1 : Batch number(380/782)  Batch loss : 0.5350062847137451\n",
            "Epoch(0/1 : Batch number(381/782)  Batch loss : 0.5865216851234436\n",
            "Epoch(0/1 : Batch number(382/782)  Batch loss : 0.6391004323959351\n",
            "Epoch(0/1 : Batch number(383/782)  Batch loss : 0.522789716720581\n",
            "Epoch(0/1 : Batch number(384/782)  Batch loss : 0.7282776832580566\n",
            "Epoch(0/1 : Batch number(385/782)  Batch loss : 0.432828813791275\n",
            "Epoch(0/1 : Batch number(386/782)  Batch loss : 0.6868801116943359\n",
            "Epoch(0/1 : Batch number(387/782)  Batch loss : 0.6428361535072327\n",
            "Epoch(0/1 : Batch number(388/782)  Batch loss : 0.699977695941925\n",
            "Epoch(0/1 : Batch number(389/782)  Batch loss : 0.6771091818809509\n",
            "Epoch(0/1 : Batch number(390/782)  Batch loss : 0.5662440061569214\n",
            "Epoch(0/1 : Batch number(391/782)  Batch loss : 0.5315147042274475\n",
            "Epoch(0/1 : Batch number(392/782)  Batch loss : 0.5576027035713196\n",
            "Epoch(0/1 : Batch number(393/782)  Batch loss : 0.7173868417739868\n",
            "Epoch(0/1 : Batch number(394/782)  Batch loss : 0.39787888526916504\n",
            "Epoch(0/1 : Batch number(395/782)  Batch loss : 0.858333945274353\n",
            "Epoch(0/1 : Batch number(396/782)  Batch loss : 0.6025422811508179\n",
            "Epoch(0/1 : Batch number(397/782)  Batch loss : 0.6165189743041992\n",
            "Epoch(0/1 : Batch number(398/782)  Batch loss : 0.8475533723831177\n",
            "Epoch(0/1 : Batch number(399/782)  Batch loss : 0.6737529635429382\n",
            "Epoch(0/1 : Batch number(400/782)  Batch loss : 0.4184138774871826\n",
            "Epoch(0/1 : Batch number(401/782)  Batch loss : 0.35710716247558594\n",
            "Epoch(0/1 : Batch number(402/782)  Batch loss : 0.583376407623291\n",
            "Epoch(0/1 : Batch number(403/782)  Batch loss : 0.5688925385475159\n",
            "Epoch(0/1 : Batch number(404/782)  Batch loss : 0.42756420373916626\n",
            "Epoch(0/1 : Batch number(405/782)  Batch loss : 0.47298991680145264\n",
            "Epoch(0/1 : Batch number(406/782)  Batch loss : 0.5377904176712036\n",
            "Epoch(0/1 : Batch number(407/782)  Batch loss : 0.8800233602523804\n",
            "Epoch(0/1 : Batch number(408/782)  Batch loss : 0.5661904811859131\n",
            "Epoch(0/1 : Batch number(409/782)  Batch loss : 0.6154798269271851\n",
            "Epoch(0/1 : Batch number(410/782)  Batch loss : 0.7794132232666016\n",
            "Epoch(0/1 : Batch number(411/782)  Batch loss : 0.4785357117652893\n",
            "Epoch(0/1 : Batch number(412/782)  Batch loss : 0.7418428659439087\n",
            "Epoch(0/1 : Batch number(413/782)  Batch loss : 0.45828014612197876\n",
            "Epoch(0/1 : Batch number(414/782)  Batch loss : 0.7530726790428162\n",
            "Epoch(0/1 : Batch number(415/782)  Batch loss : 0.5358582139015198\n",
            "Epoch(0/1 : Batch number(416/782)  Batch loss : 0.4346083700656891\n",
            "Epoch(0/1 : Batch number(417/782)  Batch loss : 0.8375384211540222\n",
            "Epoch(0/1 : Batch number(418/782)  Batch loss : 0.5388674139976501\n",
            "Epoch(0/1 : Batch number(419/782)  Batch loss : 0.9169136881828308\n",
            "Epoch(0/1 : Batch number(420/782)  Batch loss : 0.7627637386322021\n",
            "Epoch(0/1 : Batch number(421/782)  Batch loss : 0.6723060607910156\n",
            "Epoch(0/1 : Batch number(422/782)  Batch loss : 0.4452265202999115\n",
            "Epoch(0/1 : Batch number(423/782)  Batch loss : 0.5371931195259094\n",
            "Epoch(0/1 : Batch number(424/782)  Batch loss : 0.5661871433258057\n",
            "Epoch(0/1 : Batch number(425/782)  Batch loss : 0.6939141750335693\n",
            "Epoch(0/1 : Batch number(426/782)  Batch loss : 0.7903507351875305\n",
            "Epoch(0/1 : Batch number(427/782)  Batch loss : 0.6242440342903137\n",
            "Epoch(0/1 : Batch number(428/782)  Batch loss : 0.5761608481407166\n",
            "Epoch(0/1 : Batch number(429/782)  Batch loss : 0.5834523439407349\n",
            "Epoch(0/1 : Batch number(430/782)  Batch loss : 0.8540933728218079\n",
            "Epoch(0/1 : Batch number(431/782)  Batch loss : 0.6941894888877869\n",
            "Epoch(0/1 : Batch number(432/782)  Batch loss : 0.796081006526947\n",
            "Epoch(0/1 : Batch number(433/782)  Batch loss : 0.6703392267227173\n",
            "Epoch(0/1 : Batch number(434/782)  Batch loss : 0.4548061788082123\n",
            "Epoch(0/1 : Batch number(435/782)  Batch loss : 0.5087456703186035\n",
            "Epoch(0/1 : Batch number(436/782)  Batch loss : 0.388367623090744\n",
            "Epoch(0/1 : Batch number(437/782)  Batch loss : 0.8666699528694153\n",
            "Epoch(0/1 : Batch number(438/782)  Batch loss : 0.6745384335517883\n",
            "Epoch(0/1 : Batch number(439/782)  Batch loss : 0.7243732213973999\n",
            "Epoch(0/1 : Batch number(440/782)  Batch loss : 0.6204349398612976\n",
            "Epoch(0/1 : Batch number(441/782)  Batch loss : 0.5699642300605774\n",
            "Epoch(0/1 : Batch number(442/782)  Batch loss : 0.5664976239204407\n",
            "Epoch(0/1 : Batch number(443/782)  Batch loss : 0.5531874299049377\n",
            "Epoch(0/1 : Batch number(444/782)  Batch loss : 0.6743890047073364\n",
            "Epoch(0/1 : Batch number(445/782)  Batch loss : 0.7263022065162659\n",
            "Epoch(0/1 : Batch number(446/782)  Batch loss : 0.45126453042030334\n",
            "Epoch(0/1 : Batch number(447/782)  Batch loss : 0.6273086071014404\n",
            "Epoch(0/1 : Batch number(448/782)  Batch loss : 0.8714436292648315\n",
            "Epoch(0/1 : Batch number(449/782)  Batch loss : 0.4057801067829132\n",
            "Epoch(0/1 : Batch number(450/782)  Batch loss : 0.822808027267456\n",
            "Epoch(0/1 : Batch number(451/782)  Batch loss : 0.6773573160171509\n",
            "Epoch(0/1 : Batch number(452/782)  Batch loss : 0.5062958598136902\n",
            "Epoch(0/1 : Batch number(453/782)  Batch loss : 0.5339996814727783\n",
            "Epoch(0/1 : Batch number(454/782)  Batch loss : 0.8940641283988953\n",
            "Epoch(0/1 : Batch number(455/782)  Batch loss : 0.4409061074256897\n",
            "Epoch(0/1 : Batch number(456/782)  Batch loss : 0.6631888747215271\n",
            "Epoch(0/1 : Batch number(457/782)  Batch loss : 0.5090820789337158\n",
            "Epoch(0/1 : Batch number(458/782)  Batch loss : 0.5910232067108154\n",
            "Epoch(0/1 : Batch number(459/782)  Batch loss : 0.6639826893806458\n",
            "Epoch(0/1 : Batch number(460/782)  Batch loss : 0.6294481158256531\n",
            "Epoch(0/1 : Batch number(461/782)  Batch loss : 0.270404189825058\n",
            "Epoch(0/1 : Batch number(462/782)  Batch loss : 0.4463120698928833\n",
            "Epoch(0/1 : Batch number(463/782)  Batch loss : 0.6504355669021606\n",
            "Epoch(0/1 : Batch number(464/782)  Batch loss : 0.5708293914794922\n",
            "Epoch(0/1 : Batch number(465/782)  Batch loss : 0.6401894092559814\n",
            "Epoch(0/1 : Batch number(466/782)  Batch loss : 0.6093044877052307\n",
            "Epoch(0/1 : Batch number(467/782)  Batch loss : 0.8921228051185608\n",
            "Epoch(0/1 : Batch number(468/782)  Batch loss : 0.5804094672203064\n",
            "Epoch(0/1 : Batch number(469/782)  Batch loss : 0.6555598974227905\n",
            "Epoch(0/1 : Batch number(470/782)  Batch loss : 0.616321861743927\n",
            "Epoch(0/1 : Batch number(471/782)  Batch loss : 0.6593084931373596\n",
            "Epoch(0/1 : Batch number(472/782)  Batch loss : 0.5158807635307312\n",
            "Epoch(0/1 : Batch number(473/782)  Batch loss : 0.7546265721321106\n",
            "Epoch(0/1 : Batch number(474/782)  Batch loss : 0.5544785261154175\n",
            "Epoch(0/1 : Batch number(475/782)  Batch loss : 0.5267110466957092\n",
            "Epoch(0/1 : Batch number(476/782)  Batch loss : 0.5287054181098938\n",
            "Epoch(0/1 : Batch number(477/782)  Batch loss : 0.8459649682044983\n",
            "Epoch(0/1 : Batch number(478/782)  Batch loss : 0.8153628706932068\n",
            "Epoch(0/1 : Batch number(479/782)  Batch loss : 0.4834585189819336\n",
            "Epoch(0/1 : Batch number(480/782)  Batch loss : 0.581600546836853\n",
            "Epoch(0/1 : Batch number(481/782)  Batch loss : 0.6537142992019653\n",
            "Epoch(0/1 : Batch number(482/782)  Batch loss : 0.5675290822982788\n",
            "Epoch(0/1 : Batch number(483/782)  Batch loss : 0.5990405678749084\n",
            "Epoch(0/1 : Batch number(484/782)  Batch loss : 0.5308818221092224\n",
            "Epoch(0/1 : Batch number(485/782)  Batch loss : 0.5338637828826904\n",
            "Epoch(0/1 : Batch number(486/782)  Batch loss : 0.4540802240371704\n",
            "Epoch(0/1 : Batch number(487/782)  Batch loss : 0.7160808444023132\n",
            "Epoch(0/1 : Batch number(488/782)  Batch loss : 0.6112515330314636\n",
            "Epoch(0/1 : Batch number(489/782)  Batch loss : 0.4289104640483856\n",
            "Epoch(0/1 : Batch number(490/782)  Batch loss : 0.7515033483505249\n",
            "Epoch(0/1 : Batch number(491/782)  Batch loss : 0.6143871545791626\n",
            "Epoch(0/1 : Batch number(492/782)  Batch loss : 0.6192306280136108\n",
            "Epoch(0/1 : Batch number(493/782)  Batch loss : 0.6951660513877869\n",
            "Epoch(0/1 : Batch number(494/782)  Batch loss : 0.4498014748096466\n",
            "Epoch(0/1 : Batch number(495/782)  Batch loss : 0.6234381198883057\n",
            "Epoch(0/1 : Batch number(496/782)  Batch loss : 0.636238157749176\n",
            "Epoch(0/1 : Batch number(497/782)  Batch loss : 0.716858446598053\n",
            "Epoch(0/1 : Batch number(498/782)  Batch loss : 0.6004678010940552\n",
            "Epoch(0/1 : Batch number(499/782)  Batch loss : 0.8188728094100952\n",
            "Epoch(0/1 : Batch number(500/782)  Batch loss : 0.8813455104827881\n",
            "Epoch(0/1 : Batch number(501/782)  Batch loss : 0.7134653329849243\n",
            "Epoch(0/1 : Batch number(502/782)  Batch loss : 0.4472358822822571\n",
            "Epoch(0/1 : Batch number(503/782)  Batch loss : 0.4882701635360718\n",
            "Epoch(0/1 : Batch number(504/782)  Batch loss : 0.6604391932487488\n",
            "Epoch(0/1 : Batch number(505/782)  Batch loss : 0.6899734735488892\n",
            "Epoch(0/1 : Batch number(506/782)  Batch loss : 0.6210839748382568\n",
            "Epoch(0/1 : Batch number(507/782)  Batch loss : 0.48255854845046997\n",
            "Epoch(0/1 : Batch number(508/782)  Batch loss : 0.5132092833518982\n",
            "Epoch(0/1 : Batch number(509/782)  Batch loss : 0.3434038460254669\n",
            "Epoch(0/1 : Batch number(510/782)  Batch loss : 0.8983842134475708\n",
            "Epoch(0/1 : Batch number(511/782)  Batch loss : 0.6871433854103088\n",
            "Epoch(0/1 : Batch number(512/782)  Batch loss : 0.7454015612602234\n",
            "Epoch(0/1 : Batch number(513/782)  Batch loss : 0.5475187301635742\n",
            "Epoch(0/1 : Batch number(514/782)  Batch loss : 0.6104289293289185\n",
            "Epoch(0/1 : Batch number(515/782)  Batch loss : 0.3407750427722931\n",
            "Epoch(0/1 : Batch number(516/782)  Batch loss : 0.6570716500282288\n",
            "Epoch(0/1 : Batch number(517/782)  Batch loss : 0.48544126749038696\n",
            "Epoch(0/1 : Batch number(518/782)  Batch loss : 0.778573215007782\n",
            "Epoch(0/1 : Batch number(519/782)  Batch loss : 0.590376615524292\n",
            "Epoch(0/1 : Batch number(520/782)  Batch loss : 0.8701380491256714\n",
            "Epoch(0/1 : Batch number(521/782)  Batch loss : 0.5803818106651306\n",
            "Epoch(0/1 : Batch number(522/782)  Batch loss : 0.6786607503890991\n",
            "Epoch(0/1 : Batch number(523/782)  Batch loss : 0.7813159227371216\n",
            "Epoch(0/1 : Batch number(524/782)  Batch loss : 0.8504542112350464\n",
            "Epoch(0/1 : Batch number(525/782)  Batch loss : 0.38111624121665955\n",
            "Epoch(0/1 : Batch number(526/782)  Batch loss : 0.6203088164329529\n",
            "Epoch(0/1 : Batch number(527/782)  Batch loss : 0.7497537732124329\n",
            "Epoch(0/1 : Batch number(528/782)  Batch loss : 1.1258710622787476\n",
            "Epoch(0/1 : Batch number(529/782)  Batch loss : 0.7210878729820251\n",
            "Epoch(0/1 : Batch number(530/782)  Batch loss : 0.6553211808204651\n",
            "Epoch(0/1 : Batch number(531/782)  Batch loss : 0.6327974796295166\n",
            "Epoch(0/1 : Batch number(532/782)  Batch loss : 0.5610490441322327\n",
            "Epoch(0/1 : Batch number(533/782)  Batch loss : 0.6728346943855286\n",
            "Epoch(0/1 : Batch number(534/782)  Batch loss : 0.6109409928321838\n",
            "Epoch(0/1 : Batch number(535/782)  Batch loss : 0.4651429057121277\n",
            "Epoch(0/1 : Batch number(536/782)  Batch loss : 0.4743504822254181\n",
            "Epoch(0/1 : Batch number(537/782)  Batch loss : 0.4853767156600952\n",
            "Epoch(0/1 : Batch number(538/782)  Batch loss : 0.643035352230072\n",
            "Epoch(0/1 : Batch number(539/782)  Batch loss : 0.6162050366401672\n",
            "Epoch(0/1 : Batch number(540/782)  Batch loss : 0.5484928488731384\n",
            "Epoch(0/1 : Batch number(541/782)  Batch loss : 0.5826659798622131\n",
            "Epoch(0/1 : Batch number(542/782)  Batch loss : 0.6761417388916016\n",
            "Epoch(0/1 : Batch number(543/782)  Batch loss : 0.5033155083656311\n",
            "Epoch(0/1 : Batch number(544/782)  Batch loss : 0.4805595278739929\n",
            "Epoch(0/1 : Batch number(545/782)  Batch loss : 0.6730207800865173\n",
            "Epoch(0/1 : Batch number(546/782)  Batch loss : 0.7668033838272095\n",
            "Epoch(0/1 : Batch number(547/782)  Batch loss : 0.4765755236148834\n",
            "Epoch(0/1 : Batch number(548/782)  Batch loss : 0.4852926433086395\n",
            "Epoch(0/1 : Batch number(549/782)  Batch loss : 0.565985918045044\n",
            "Epoch(0/1 : Batch number(550/782)  Batch loss : 0.5805637836456299\n",
            "Epoch(0/1 : Batch number(551/782)  Batch loss : 0.47697412967681885\n",
            "Epoch(0/1 : Batch number(552/782)  Batch loss : 0.49563565850257874\n",
            "Epoch(0/1 : Batch number(553/782)  Batch loss : 0.6359872817993164\n",
            "Epoch(0/1 : Batch number(554/782)  Batch loss : 0.3956320583820343\n",
            "Epoch(0/1 : Batch number(555/782)  Batch loss : 0.668844997882843\n",
            "Epoch(0/1 : Batch number(556/782)  Batch loss : 0.5617673993110657\n",
            "Epoch(0/1 : Batch number(557/782)  Batch loss : 0.5808954834938049\n",
            "Epoch(0/1 : Batch number(558/782)  Batch loss : 0.7016758918762207\n",
            "Epoch(0/1 : Batch number(559/782)  Batch loss : 0.6154462695121765\n",
            "Epoch(0/1 : Batch number(560/782)  Batch loss : 0.5512509346008301\n",
            "Epoch(0/1 : Batch number(561/782)  Batch loss : 0.49391019344329834\n",
            "Epoch(0/1 : Batch number(562/782)  Batch loss : 0.45007485151290894\n",
            "Epoch(0/1 : Batch number(563/782)  Batch loss : 0.8066266179084778\n",
            "Epoch(0/1 : Batch number(564/782)  Batch loss : 0.37699636816978455\n",
            "Epoch(0/1 : Batch number(565/782)  Batch loss : 0.5765919089317322\n",
            "Epoch(0/1 : Batch number(566/782)  Batch loss : 0.5626601576805115\n",
            "Epoch(0/1 : Batch number(567/782)  Batch loss : 0.4533170163631439\n",
            "Epoch(0/1 : Batch number(568/782)  Batch loss : 0.8948729634284973\n",
            "Epoch(0/1 : Batch number(569/782)  Batch loss : 0.6251633763313293\n",
            "Epoch(0/1 : Batch number(570/782)  Batch loss : 0.464193731546402\n",
            "Epoch(0/1 : Batch number(571/782)  Batch loss : 0.9369933009147644\n",
            "Epoch(0/1 : Batch number(572/782)  Batch loss : 0.5373355746269226\n",
            "Epoch(0/1 : Batch number(573/782)  Batch loss : 0.9335814118385315\n",
            "Epoch(0/1 : Batch number(574/782)  Batch loss : 0.5961121320724487\n",
            "Epoch(0/1 : Batch number(575/782)  Batch loss : 0.5102287530899048\n",
            "Epoch(0/1 : Batch number(576/782)  Batch loss : 0.5738093256950378\n",
            "Epoch(0/1 : Batch number(577/782)  Batch loss : 0.5709588527679443\n",
            "Epoch(0/1 : Batch number(578/782)  Batch loss : 0.42606717348098755\n",
            "Epoch(0/1 : Batch number(579/782)  Batch loss : 0.6168279051780701\n",
            "Epoch(0/1 : Batch number(580/782)  Batch loss : 0.5797461271286011\n",
            "Epoch(0/1 : Batch number(581/782)  Batch loss : 0.43210768699645996\n",
            "Epoch(0/1 : Batch number(582/782)  Batch loss : 0.5744578242301941\n",
            "Epoch(0/1 : Batch number(583/782)  Batch loss : 0.7836548089981079\n",
            "Epoch(0/1 : Batch number(584/782)  Batch loss : 0.5180297493934631\n",
            "Epoch(0/1 : Batch number(585/782)  Batch loss : 0.6424295902252197\n",
            "Epoch(0/1 : Batch number(586/782)  Batch loss : 0.59269779920578\n",
            "Epoch(0/1 : Batch number(587/782)  Batch loss : 0.5269899964332581\n",
            "Epoch(0/1 : Batch number(588/782)  Batch loss : 0.7477104663848877\n",
            "Epoch(0/1 : Batch number(589/782)  Batch loss : 0.5622870922088623\n",
            "Epoch(0/1 : Batch number(590/782)  Batch loss : 0.6011091470718384\n",
            "Epoch(0/1 : Batch number(591/782)  Batch loss : 0.8553279042243958\n",
            "Epoch(0/1 : Batch number(592/782)  Batch loss : 0.5064440965652466\n",
            "Epoch(0/1 : Batch number(593/782)  Batch loss : 0.8022273778915405\n",
            "Epoch(0/1 : Batch number(594/782)  Batch loss : 0.7052323818206787\n",
            "Epoch(0/1 : Batch number(595/782)  Batch loss : 0.4867326617240906\n",
            "Epoch(0/1 : Batch number(596/782)  Batch loss : 0.5325326919555664\n",
            "Epoch(0/1 : Batch number(597/782)  Batch loss : 0.5315699577331543\n",
            "Epoch(0/1 : Batch number(598/782)  Batch loss : 0.3949867784976959\n",
            "Epoch(0/1 : Batch number(599/782)  Batch loss : 0.6529111862182617\n",
            "Epoch(0/1 : Batch number(600/782)  Batch loss : 0.5976173877716064\n",
            "Epoch(0/1 : Batch number(601/782)  Batch loss : 0.6093258857727051\n",
            "Epoch(0/1 : Batch number(602/782)  Batch loss : 0.48558497428894043\n",
            "Epoch(0/1 : Batch number(603/782)  Batch loss : 0.6403356790542603\n",
            "Epoch(0/1 : Batch number(604/782)  Batch loss : 0.6553943157196045\n",
            "Epoch(0/1 : Batch number(605/782)  Batch loss : 0.7182732224464417\n",
            "Epoch(0/1 : Batch number(606/782)  Batch loss : 0.5966705083847046\n",
            "Epoch(0/1 : Batch number(607/782)  Batch loss : 0.3698124289512634\n",
            "Epoch(0/1 : Batch number(608/782)  Batch loss : 0.6820091009140015\n",
            "Epoch(0/1 : Batch number(609/782)  Batch loss : 0.6438702344894409\n",
            "Epoch(0/1 : Batch number(610/782)  Batch loss : 0.5770120024681091\n",
            "Epoch(0/1 : Batch number(611/782)  Batch loss : 0.5166824460029602\n",
            "Epoch(0/1 : Batch number(612/782)  Batch loss : 0.5777243375778198\n",
            "Epoch(0/1 : Batch number(613/782)  Batch loss : 0.5292527079582214\n",
            "Epoch(0/1 : Batch number(614/782)  Batch loss : 0.5124057531356812\n",
            "Epoch(0/1 : Batch number(615/782)  Batch loss : 0.4817071259021759\n",
            "Epoch(0/1 : Batch number(616/782)  Batch loss : 0.6494618654251099\n",
            "Epoch(0/1 : Batch number(617/782)  Batch loss : 0.5054053068161011\n",
            "Epoch(0/1 : Batch number(618/782)  Batch loss : 0.6939908862113953\n",
            "Epoch(0/1 : Batch number(619/782)  Batch loss : 0.7834409475326538\n",
            "Epoch(0/1 : Batch number(620/782)  Batch loss : 0.6502485275268555\n",
            "Epoch(0/1 : Batch number(621/782)  Batch loss : 0.5185955762863159\n",
            "Epoch(0/1 : Batch number(622/782)  Batch loss : 0.7020670771598816\n",
            "Epoch(0/1 : Batch number(623/782)  Batch loss : 0.632623016834259\n",
            "Epoch(0/1 : Batch number(624/782)  Batch loss : 0.6132591962814331\n",
            "Epoch(0/1 : Batch number(625/782)  Batch loss : 0.6235496997833252\n",
            "Epoch(0/1 : Batch number(626/782)  Batch loss : 0.8302724361419678\n",
            "Epoch(0/1 : Batch number(627/782)  Batch loss : 0.5872184038162231\n",
            "Epoch(0/1 : Batch number(628/782)  Batch loss : 0.8655030131340027\n",
            "Epoch(0/1 : Batch number(629/782)  Batch loss : 0.6641671657562256\n",
            "Epoch(0/1 : Batch number(630/782)  Batch loss : 0.56583172082901\n",
            "Epoch(0/1 : Batch number(631/782)  Batch loss : 0.7211136221885681\n",
            "Epoch(0/1 : Batch number(632/782)  Batch loss : 0.49198681116104126\n",
            "Epoch(0/1 : Batch number(633/782)  Batch loss : 0.7391688823699951\n",
            "Epoch(0/1 : Batch number(634/782)  Batch loss : 0.9067113399505615\n",
            "Epoch(0/1 : Batch number(635/782)  Batch loss : 0.780072808265686\n",
            "Epoch(0/1 : Batch number(636/782)  Batch loss : 0.7954601049423218\n",
            "Epoch(0/1 : Batch number(637/782)  Batch loss : 0.6109244227409363\n",
            "Epoch(0/1 : Batch number(638/782)  Batch loss : 0.380594938993454\n",
            "Epoch(0/1 : Batch number(639/782)  Batch loss : 0.7223322987556458\n",
            "Epoch(0/1 : Batch number(640/782)  Batch loss : 0.6443169713020325\n",
            "Epoch(0/1 : Batch number(641/782)  Batch loss : 0.7381037473678589\n",
            "Epoch(0/1 : Batch number(642/782)  Batch loss : 0.44874057173728943\n",
            "Epoch(0/1 : Batch number(643/782)  Batch loss : 0.8249386548995972\n",
            "Epoch(0/1 : Batch number(644/782)  Batch loss : 0.4981318712234497\n",
            "Epoch(0/1 : Batch number(645/782)  Batch loss : 0.5557599067687988\n",
            "Epoch(0/1 : Batch number(646/782)  Batch loss : 0.7416320443153381\n",
            "Epoch(0/1 : Batch number(647/782)  Batch loss : 0.676243782043457\n",
            "Epoch(0/1 : Batch number(648/782)  Batch loss : 0.6441552639007568\n",
            "Epoch(0/1 : Batch number(649/782)  Batch loss : 0.419613778591156\n",
            "Epoch(0/1 : Batch number(650/782)  Batch loss : 0.6711342334747314\n",
            "Epoch(0/1 : Batch number(651/782)  Batch loss : 0.6404621005058289\n",
            "Epoch(0/1 : Batch number(652/782)  Batch loss : 0.8579539060592651\n",
            "Epoch(0/1 : Batch number(653/782)  Batch loss : 0.4254169464111328\n",
            "Epoch(0/1 : Batch number(654/782)  Batch loss : 0.7858372926712036\n",
            "Epoch(0/1 : Batch number(655/782)  Batch loss : 0.6598179936408997\n",
            "Epoch(0/1 : Batch number(656/782)  Batch loss : 0.5290154814720154\n",
            "Epoch(0/1 : Batch number(657/782)  Batch loss : 0.5721970200538635\n",
            "Epoch(0/1 : Batch number(658/782)  Batch loss : 0.49667757749557495\n",
            "Epoch(0/1 : Batch number(659/782)  Batch loss : 0.4632687270641327\n",
            "Epoch(0/1 : Batch number(660/782)  Batch loss : 0.6141928434371948\n",
            "Epoch(0/1 : Batch number(661/782)  Batch loss : 0.598059892654419\n",
            "Epoch(0/1 : Batch number(662/782)  Batch loss : 0.8937872052192688\n",
            "Epoch(0/1 : Batch number(663/782)  Batch loss : 0.623267650604248\n",
            "Epoch(0/1 : Batch number(664/782)  Batch loss : 0.48090535402297974\n",
            "Epoch(0/1 : Batch number(665/782)  Batch loss : 0.574660062789917\n",
            "Epoch(0/1 : Batch number(666/782)  Batch loss : 0.42838647961616516\n",
            "Epoch(0/1 : Batch number(667/782)  Batch loss : 0.5100627541542053\n",
            "Epoch(0/1 : Batch number(668/782)  Batch loss : 0.42626598477363586\n",
            "Epoch(0/1 : Batch number(669/782)  Batch loss : 0.8532062768936157\n",
            "Epoch(0/1 : Batch number(670/782)  Batch loss : 0.664736807346344\n",
            "Epoch(0/1 : Batch number(671/782)  Batch loss : 0.6772345304489136\n",
            "Epoch(0/1 : Batch number(672/782)  Batch loss : 0.5086418986320496\n",
            "Epoch(0/1 : Batch number(673/782)  Batch loss : 0.808332085609436\n",
            "Epoch(0/1 : Batch number(674/782)  Batch loss : 0.4637453556060791\n",
            "Epoch(0/1 : Batch number(675/782)  Batch loss : 0.36467045545578003\n",
            "Epoch(0/1 : Batch number(676/782)  Batch loss : 0.6221967935562134\n",
            "Epoch(0/1 : Batch number(677/782)  Batch loss : 0.43026137351989746\n",
            "Epoch(0/1 : Batch number(678/782)  Batch loss : 0.6266072988510132\n",
            "Epoch(0/1 : Batch number(679/782)  Batch loss : 0.5177595615386963\n",
            "Epoch(0/1 : Batch number(680/782)  Batch loss : 0.6429939866065979\n",
            "Epoch(0/1 : Batch number(681/782)  Batch loss : 0.8207570910453796\n",
            "Epoch(0/1 : Batch number(682/782)  Batch loss : 0.477321594953537\n",
            "Epoch(0/1 : Batch number(683/782)  Batch loss : 0.4594525694847107\n",
            "Epoch(0/1 : Batch number(684/782)  Batch loss : 0.6877149939537048\n",
            "Epoch(0/1 : Batch number(685/782)  Batch loss : 0.543484091758728\n",
            "Epoch(0/1 : Batch number(686/782)  Batch loss : 0.8027291297912598\n",
            "Epoch(0/1 : Batch number(687/782)  Batch loss : 0.7107799649238586\n",
            "Epoch(0/1 : Batch number(688/782)  Batch loss : 0.4309219717979431\n",
            "Epoch(0/1 : Batch number(689/782)  Batch loss : 0.5514479875564575\n",
            "Epoch(0/1 : Batch number(690/782)  Batch loss : 0.5284029841423035\n",
            "Epoch(0/1 : Batch number(691/782)  Batch loss : 0.7163681387901306\n",
            "Epoch(0/1 : Batch number(692/782)  Batch loss : 0.8316503167152405\n",
            "Epoch(0/1 : Batch number(693/782)  Batch loss : 0.5456421375274658\n",
            "Epoch(0/1 : Batch number(694/782)  Batch loss : 0.3118891417980194\n",
            "Epoch(0/1 : Batch number(695/782)  Batch loss : 0.7446635961532593\n",
            "Epoch(0/1 : Batch number(696/782)  Batch loss : 0.6290008425712585\n",
            "Epoch(0/1 : Batch number(697/782)  Batch loss : 0.36529672145843506\n",
            "Epoch(0/1 : Batch number(698/782)  Batch loss : 0.535844087600708\n",
            "Epoch(0/1 : Batch number(699/782)  Batch loss : 0.401504784822464\n",
            "Epoch(0/1 : Batch number(700/782)  Batch loss : 0.9098983407020569\n",
            "Epoch(0/1 : Batch number(701/782)  Batch loss : 0.6778526306152344\n",
            "Epoch(0/1 : Batch number(702/782)  Batch loss : 0.868680477142334\n",
            "Epoch(0/1 : Batch number(703/782)  Batch loss : 0.6082847118377686\n",
            "Epoch(0/1 : Batch number(704/782)  Batch loss : 0.6893694400787354\n",
            "Epoch(0/1 : Batch number(705/782)  Batch loss : 0.6279971599578857\n",
            "Epoch(0/1 : Batch number(706/782)  Batch loss : 0.6449573636054993\n",
            "Epoch(0/1 : Batch number(707/782)  Batch loss : 0.5140233635902405\n",
            "Epoch(0/1 : Batch number(708/782)  Batch loss : 0.6386920213699341\n",
            "Epoch(0/1 : Batch number(709/782)  Batch loss : 0.4163881838321686\n",
            "Epoch(0/1 : Batch number(710/782)  Batch loss : 0.6854409575462341\n",
            "Epoch(0/1 : Batch number(711/782)  Batch loss : 0.6491689682006836\n",
            "Epoch(0/1 : Batch number(712/782)  Batch loss : 0.44057849049568176\n",
            "Epoch(0/1 : Batch number(713/782)  Batch loss : 0.7051039338111877\n",
            "Epoch(0/1 : Batch number(714/782)  Batch loss : 0.8478875160217285\n",
            "Epoch(0/1 : Batch number(715/782)  Batch loss : 0.7394917011260986\n",
            "Epoch(0/1 : Batch number(716/782)  Batch loss : 0.6203163266181946\n",
            "Epoch(0/1 : Batch number(717/782)  Batch loss : 0.6903852820396423\n",
            "Epoch(0/1 : Batch number(718/782)  Batch loss : 0.6854784488677979\n",
            "Epoch(0/1 : Batch number(719/782)  Batch loss : 0.5639322996139526\n",
            "Epoch(0/1 : Batch number(720/782)  Batch loss : 0.6599932909011841\n",
            "Epoch(0/1 : Batch number(721/782)  Batch loss : 0.6009700894355774\n",
            "Epoch(0/1 : Batch number(722/782)  Batch loss : 0.4800568222999573\n",
            "Epoch(0/1 : Batch number(723/782)  Batch loss : 0.47082287073135376\n",
            "Epoch(0/1 : Batch number(724/782)  Batch loss : 0.7462555170059204\n",
            "Epoch(0/1 : Batch number(725/782)  Batch loss : 0.619178056716919\n",
            "Epoch(0/1 : Batch number(726/782)  Batch loss : 0.6269975900650024\n",
            "Epoch(0/1 : Batch number(727/782)  Batch loss : 0.8129099011421204\n",
            "Epoch(0/1 : Batch number(728/782)  Batch loss : 0.36893177032470703\n",
            "Epoch(0/1 : Batch number(729/782)  Batch loss : 0.5704464316368103\n",
            "Epoch(0/1 : Batch number(730/782)  Batch loss : 0.5148574113845825\n",
            "Epoch(0/1 : Batch number(731/782)  Batch loss : 0.6682746410369873\n",
            "Epoch(0/1 : Batch number(732/782)  Batch loss : 0.804197371006012\n",
            "Epoch(0/1 : Batch number(733/782)  Batch loss : 0.4271524250507355\n",
            "Epoch(0/1 : Batch number(734/782)  Batch loss : 0.6926840543746948\n",
            "Epoch(0/1 : Batch number(735/782)  Batch loss : 0.6571656465530396\n",
            "Epoch(0/1 : Batch number(736/782)  Batch loss : 0.6399720311164856\n",
            "Epoch(0/1 : Batch number(737/782)  Batch loss : 0.7586024403572083\n",
            "Epoch(0/1 : Batch number(738/782)  Batch loss : 0.9883894920349121\n",
            "Epoch(0/1 : Batch number(739/782)  Batch loss : 0.5552816390991211\n",
            "Epoch(0/1 : Batch number(740/782)  Batch loss : 0.49625882506370544\n",
            "Epoch(0/1 : Batch number(741/782)  Batch loss : 0.6237126588821411\n",
            "Epoch(0/1 : Batch number(742/782)  Batch loss : 0.4195295572280884\n",
            "Epoch(0/1 : Batch number(743/782)  Batch loss : 0.6471630334854126\n",
            "Epoch(0/1 : Batch number(744/782)  Batch loss : 0.6653107404708862\n",
            "Epoch(0/1 : Batch number(745/782)  Batch loss : 0.7637327313423157\n",
            "Epoch(0/1 : Batch number(746/782)  Batch loss : 0.439010351896286\n",
            "Epoch(0/1 : Batch number(747/782)  Batch loss : 0.4698490500450134\n",
            "Epoch(0/1 : Batch number(748/782)  Batch loss : 0.6312536597251892\n",
            "Epoch(0/1 : Batch number(749/782)  Batch loss : 0.7020316123962402\n",
            "Epoch(0/1 : Batch number(750/782)  Batch loss : 0.8014850616455078\n",
            "Epoch(0/1 : Batch number(751/782)  Batch loss : 0.5277861952781677\n",
            "Epoch(0/1 : Batch number(752/782)  Batch loss : 0.698016345500946\n",
            "Epoch(0/1 : Batch number(753/782)  Batch loss : 0.6168063879013062\n",
            "Epoch(0/1 : Batch number(754/782)  Batch loss : 0.6951718926429749\n",
            "Epoch(0/1 : Batch number(755/782)  Batch loss : 0.6212942600250244\n",
            "Epoch(0/1 : Batch number(756/782)  Batch loss : 0.8130103349685669\n",
            "Epoch(0/1 : Batch number(757/782)  Batch loss : 0.41623958945274353\n",
            "Epoch(0/1 : Batch number(758/782)  Batch loss : 0.7266542315483093\n",
            "Epoch(0/1 : Batch number(759/782)  Batch loss : 0.5403656959533691\n",
            "Epoch(0/1 : Batch number(760/782)  Batch loss : 0.49537405371665955\n",
            "Epoch(0/1 : Batch number(761/782)  Batch loss : 0.6151838898658752\n",
            "Epoch(0/1 : Batch number(762/782)  Batch loss : 0.847268283367157\n",
            "Epoch(0/1 : Batch number(763/782)  Batch loss : 0.5691667795181274\n",
            "Epoch(0/1 : Batch number(764/782)  Batch loss : 0.5487300753593445\n",
            "Epoch(0/1 : Batch number(765/782)  Batch loss : 0.7136919498443604\n",
            "Epoch(0/1 : Batch number(766/782)  Batch loss : 0.9543040990829468\n",
            "Epoch(0/1 : Batch number(767/782)  Batch loss : 0.49749669432640076\n",
            "Epoch(0/1 : Batch number(768/782)  Batch loss : 0.5058640837669373\n",
            "Epoch(0/1 : Batch number(769/782)  Batch loss : 0.909607470035553\n",
            "Epoch(0/1 : Batch number(770/782)  Batch loss : 0.6439480781555176\n",
            "Epoch(0/1 : Batch number(771/782)  Batch loss : 0.6587207913398743\n",
            "Epoch(0/1 : Batch number(772/782)  Batch loss : 0.602412223815918\n",
            "Epoch(0/1 : Batch number(773/782)  Batch loss : 0.6920003294944763\n",
            "Epoch(0/1 : Batch number(774/782)  Batch loss : 0.5916385650634766\n",
            "Epoch(0/1 : Batch number(775/782)  Batch loss : 0.6809187531471252\n",
            "Epoch(0/1 : Batch number(776/782)  Batch loss : 0.5554415583610535\n",
            "Epoch(0/1 : Batch number(777/782)  Batch loss : 0.6108077168464661\n",
            "Epoch(0/1 : Batch number(778/782)  Batch loss : 0.5679068565368652\n",
            "Epoch(0/1 : Batch number(779/782)  Batch loss : 0.5569183230400085\n",
            "Epoch(0/1 : Batch number(780/782)  Batch loss : 0.7266343235969543\n",
            "Epoch(0/1 : Batch number(781/782)  Batch loss : 0.38212499022483826\n",
            "Epoch(0/1 : Batch number(782/782)  Batch loss : 0.5681659579277039\n",
            "Training loss : 0.6486002936997377\n"
          ]
        }
      ]
    },
    {
      "cell_type": "markdown",
      "metadata": {
        "id": "QmiIFDJXDsan"
      },
      "source": [
        "## Evaluating the network and viewing images"
      ]
    },
    {
      "cell_type": "code",
      "metadata": {
        "id": "8Tg9qA_FD-X8"
      },
      "source": [
        "import matplotlib.pyplot as plt\n",
        "%matplotlib inline\n",
        "import numpy as np"
      ],
      "execution_count": 14,
      "outputs": []
    },
    {
      "cell_type": "code",
      "metadata": {
        "id": "IPuKt5cONpz9",
        "colab": {
          "base_uri": "https://localhost:8080/"
        },
        "outputId": "c4759bd7-cd26-488f-bd6d-71b4e82dd5c3"
      },
      "source": [
        "CIFAR10_classes = ['plane', 'car', 'bird', 'cat',\n",
        "           'deer', 'dog', 'frog', 'horse', 'ship', 'truck']\n",
        "\n",
        "\n",
        "model.to('cpu') #on training we need model on GPU, \n",
        "                #to evaluate/inference, we can do it on our cpu\n",
        "\n",
        "model.eval() "
      ],
      "execution_count": 15,
      "outputs": [
        {
          "output_type": "execute_result",
          "data": {
            "text/plain": [
              "VGG(\n",
              "  (features): Sequential(\n",
              "    (0): Conv2d(3, 64, kernel_size=(3, 3), stride=(1, 1), padding=(1, 1))\n",
              "    (1): ReLU(inplace=True)\n",
              "    (2): Conv2d(64, 64, kernel_size=(3, 3), stride=(1, 1), padding=(1, 1))\n",
              "    (3): ReLU(inplace=True)\n",
              "    (4): MaxPool2d(kernel_size=2, stride=2, padding=0, dilation=1, ceil_mode=False)\n",
              "    (5): Conv2d(64, 128, kernel_size=(3, 3), stride=(1, 1), padding=(1, 1))\n",
              "    (6): ReLU(inplace=True)\n",
              "    (7): Conv2d(128, 128, kernel_size=(3, 3), stride=(1, 1), padding=(1, 1))\n",
              "    (8): ReLU(inplace=True)\n",
              "    (9): MaxPool2d(kernel_size=2, stride=2, padding=0, dilation=1, ceil_mode=False)\n",
              "    (10): Conv2d(128, 256, kernel_size=(3, 3), stride=(1, 1), padding=(1, 1))\n",
              "    (11): ReLU(inplace=True)\n",
              "    (12): Conv2d(256, 256, kernel_size=(3, 3), stride=(1, 1), padding=(1, 1))\n",
              "    (13): ReLU(inplace=True)\n",
              "    (14): Conv2d(256, 256, kernel_size=(3, 3), stride=(1, 1), padding=(1, 1))\n",
              "    (15): ReLU(inplace=True)\n",
              "    (16): MaxPool2d(kernel_size=2, stride=2, padding=0, dilation=1, ceil_mode=False)\n",
              "    (17): Conv2d(256, 512, kernel_size=(3, 3), stride=(1, 1), padding=(1, 1))\n",
              "    (18): ReLU(inplace=True)\n",
              "    (19): Conv2d(512, 512, kernel_size=(3, 3), stride=(1, 1), padding=(1, 1))\n",
              "    (20): ReLU(inplace=True)\n",
              "    (21): Conv2d(512, 512, kernel_size=(3, 3), stride=(1, 1), padding=(1, 1))\n",
              "    (22): ReLU(inplace=True)\n",
              "    (23): MaxPool2d(kernel_size=2, stride=2, padding=0, dilation=1, ceil_mode=False)\n",
              "    (24): Conv2d(512, 512, kernel_size=(3, 3), stride=(1, 1), padding=(1, 1))\n",
              "    (25): ReLU(inplace=True)\n",
              "    (26): Conv2d(512, 512, kernel_size=(3, 3), stride=(1, 1), padding=(1, 1))\n",
              "    (27): ReLU(inplace=True)\n",
              "    (28): Conv2d(512, 512, kernel_size=(3, 3), stride=(1, 1), padding=(1, 1))\n",
              "    (29): ReLU(inplace=True)\n",
              "    (30): MaxPool2d(kernel_size=2, stride=2, padding=0, dilation=1, ceil_mode=False)\n",
              "  )\n",
              "  (avgpool): AdaptiveAvgPool2d(output_size=(7, 7))\n",
              "  (classifier): Sequential(\n",
              "    (0): Linear(in_features=25088, out_features=4096, bias=True)\n",
              "    (1): ReLU(inplace=True)\n",
              "    (2): Dropout(p=0.5, inplace=False)\n",
              "    (3): Linear(in_features=4096, out_features=4096, bias=True)\n",
              "    (4): ReLU(inplace=True)\n",
              "    (5): Dropout(p=0.5, inplace=False)\n",
              "    (6): Sequential(\n",
              "      (0): Linear(in_features=4096, out_features=10, bias=True)\n",
              "      (1): LogSoftmax(dim=1)\n",
              "    )\n",
              "  )\n",
              ")"
            ]
          },
          "metadata": {},
          "execution_count": 15
        }
      ]
    },
    {
      "cell_type": "markdown",
      "metadata": {
        "id": "Z578czw1jTD8"
      },
      "source": [
        "We usually don't need this model.eval(), as normally pytorch runs a network model in train mode, *if no dropout/batch normalisation*.\n",
        "\n",
        "But since vgg 16 has a dropout layer, we need to explicitly set to \"eval\" mode before computing the output values.\n",
        "\n",
        "Bcuz during training, a **drop out layer, randomly sets any/some of it inputs to zero**; which effectively erases them from the network, this make the finely-trained **network more robust** and **less** prone to overfitting.\n",
        "\n"
      ]
    },
    {
      "cell_type": "code",
      "metadata": {
        "colab": {
          "base_uri": "https://localhost:8080/"
        },
        "id": "RMWpaPrnjRlN",
        "outputId": "04cd9fd9-3830-4a22-af1c-6f45a82a46dc"
      },
      "source": [
        "with torch.no_grad():\n",
        "  images, labels = next(iter(testloader))\n",
        "  logps = model(images)\n",
        "  \n",
        "  output = torch.exp(logps)\n",
        "  print(output)\n"
      ],
      "execution_count": 16,
      "outputs": [
        {
          "output_type": "stream",
          "name": "stdout",
          "text": [
            "tensor([[6.4039e-04, 1.0855e-02, 1.2875e-03, 7.7311e-01, 3.5930e-04, 3.2321e-02,\n",
            "         1.7434e-01, 6.0841e-03, 7.2985e-04, 2.7300e-04],\n",
            "        [1.3347e-02, 1.7900e-01, 5.1526e-05, 7.4468e-05, 8.5632e-07, 7.4796e-06,\n",
            "         5.1130e-06, 6.5271e-06, 8.0627e-01, 1.2352e-03],\n",
            "        [1.5944e-03, 2.8035e-03, 9.3020e-07, 3.3235e-06, 4.5233e-07, 1.4053e-07,\n",
            "         1.1405e-07, 5.1494e-06, 9.9545e-01, 1.4610e-04],\n",
            "        [4.3544e-01, 1.0295e-03, 5.9684e-02, 9.2777e-02, 6.5315e-04, 1.1365e-03,\n",
            "         3.0267e-03, 3.2557e-03, 4.0260e-01, 4.0206e-04],\n",
            "        [2.7520e-08, 3.9796e-07, 2.4135e-03, 3.2272e-04, 1.5428e-04, 8.6983e-06,\n",
            "         9.9710e-01, 6.8706e-07, 7.2332e-08, 1.6337e-07],\n",
            "        [5.7466e-06, 3.4879e-06, 7.1237e-05, 1.7720e-01, 1.7810e-02, 7.7967e-02,\n",
            "         7.2464e-01, 2.2588e-03, 5.1002e-07, 4.5706e-05],\n",
            "        [2.1850e-05, 9.9003e-01, 9.0432e-07, 9.9994e-05, 2.2661e-08, 1.5765e-04,\n",
            "         3.9578e-06, 6.9710e-05, 1.4562e-05, 9.6022e-03],\n",
            "        [1.7973e-02, 8.6891e-03, 3.4481e-02, 1.3312e-01, 3.1861e-02, 4.9464e-03,\n",
            "         7.0844e-01, 2.3797e-02, 1.2201e-02, 2.4487e-02],\n",
            "        [2.5087e-05, 5.9542e-06, 8.1176e-03, 9.7131e-01, 4.2208e-03, 7.5074e-03,\n",
            "         5.7529e-03, 3.0133e-03, 3.6861e-05, 5.3867e-06],\n",
            "        [1.5959e-05, 9.4560e-01, 5.1945e-06, 5.0688e-04, 1.9152e-05, 1.8836e-04,\n",
            "         2.8134e-04, 1.3159e-04, 5.4419e-05, 5.3200e-02],\n",
            "        [9.2695e-01, 6.2735e-05, 3.1488e-03, 2.9457e-02, 1.4477e-02, 5.9931e-03,\n",
            "         3.8828e-04, 1.5198e-02, 3.9748e-03, 3.4644e-04],\n",
            "        [4.6011e-08, 2.0809e-03, 3.3599e-10, 7.3182e-08, 2.0770e-10, 1.2780e-08,\n",
            "         8.8743e-09, 5.6139e-09, 7.2802e-07, 9.9792e-01],\n",
            "        [9.2439e-06, 3.0882e-05, 3.7365e-04, 1.4192e-01, 1.5956e-03, 7.9616e-01,\n",
            "         1.3701e-03, 5.8522e-02, 1.2472e-05, 8.0650e-06],\n",
            "        [1.5749e-04, 1.6461e-04, 7.0432e-03, 1.1327e-01, 8.3061e-04, 2.8068e-02,\n",
            "         4.8248e-04, 8.4977e-01, 5.7333e-05, 1.6181e-04],\n",
            "        [3.9286e-05, 3.5446e-03, 3.6068e-08, 3.0316e-06, 8.0809e-08, 6.8408e-07,\n",
            "         2.9940e-08, 9.7641e-06, 5.0504e-05, 9.9635e-01],\n",
            "        [2.0038e-02, 1.0881e-02, 2.9904e-02, 1.2205e-03, 8.3212e-05, 5.3382e-03,\n",
            "         1.4001e-01, 5.2498e-04, 7.9193e-01, 7.6428e-05],\n",
            "        [7.7202e-06, 1.2131e-05, 3.6614e-04, 2.6976e-01, 2.3459e-05, 7.2626e-01,\n",
            "         6.0565e-05, 3.5096e-03, 4.8190e-06, 2.8777e-06],\n",
            "        [4.8680e-05, 1.9460e-02, 2.5350e-04, 2.8381e-03, 4.9547e-04, 4.4399e-02,\n",
            "         1.5763e-03, 9.2952e-01, 1.1317e-05, 1.3964e-03],\n",
            "        [2.0833e-04, 2.7881e-04, 7.7282e-07, 3.4856e-06, 4.0379e-05, 4.3369e-07,\n",
            "         1.9666e-07, 1.7152e-05, 9.9788e-01, 1.5695e-03],\n",
            "        [1.9837e-05, 9.6761e-06, 2.5002e-03, 1.2138e-03, 4.9809e-04, 1.3279e-05,\n",
            "         9.9572e-01, 8.3876e-06, 1.9456e-05, 2.0513e-06],\n",
            "        [6.4801e-02, 7.4986e-03, 1.0316e-02, 2.0813e-01, 6.9222e-02, 2.1457e-02,\n",
            "         5.2026e-04, 6.1433e-01, 1.6386e-03, 2.0909e-03],\n",
            "        [9.7645e-01, 3.2378e-04, 3.7896e-03, 1.4930e-02, 1.6363e-03, 7.3006e-04,\n",
            "         7.2974e-04, 7.6882e-04, 5.5593e-04, 8.4959e-05],\n",
            "        [3.9205e-02, 5.1651e-04, 9.3792e-02, 3.7749e-02, 7.7997e-01, 2.5820e-03,\n",
            "         1.8013e-02, 1.0013e-02, 1.8126e-02, 3.5160e-05],\n",
            "        [2.2442e-04, 3.5755e-01, 3.9764e-07, 1.5136e-04, 7.4276e-08, 2.2761e-05,\n",
            "         1.3698e-07, 2.4146e-05, 7.6334e-05, 6.4195e-01],\n",
            "        [1.4979e-05, 1.6421e-05, 6.3172e-04, 3.2911e-01, 8.5554e-02, 5.8132e-01,\n",
            "         1.4634e-03, 1.8477e-03, 3.6748e-05, 5.0471e-06],\n",
            "        [2.0257e-03, 2.2321e-04, 4.1240e-01, 1.1605e-01, 1.9415e-01, 7.6521e-02,\n",
            "         9.7429e-04, 1.9749e-01, 7.1104e-05, 9.4912e-05],\n",
            "        [3.8294e-03, 6.2484e-04, 2.9198e-02, 4.2163e-01, 4.3066e-01, 3.1382e-02,\n",
            "         6.3700e-02, 1.5415e-02, 1.5872e-03, 1.9812e-03],\n",
            "        [5.1813e-01, 8.9356e-05, 3.1692e-01, 2.6591e-02, 5.9354e-02, 8.3250e-04,\n",
            "         2.1456e-02, 5.0411e-02, 5.5340e-03, 6.8257e-04],\n",
            "        [1.3336e-05, 9.4341e-04, 5.7503e-08, 1.1540e-05, 4.0599e-07, 3.5823e-07,\n",
            "         1.5376e-07, 2.4756e-05, 1.4670e-06, 9.9900e-01],\n",
            "        [6.9591e-06, 3.6311e-07, 1.3738e-03, 4.7673e-03, 3.9470e-03, 1.9135e-04,\n",
            "         9.8959e-01, 1.1653e-04, 5.0760e-06, 8.4461e-07],\n",
            "        [5.2514e-04, 3.5089e-04, 1.2399e-02, 2.0508e-01, 2.6494e-03, 1.3706e-03,\n",
            "         7.7586e-01, 9.2150e-04, 1.5624e-05, 8.2208e-04],\n",
            "        [2.4293e-06, 7.6083e-05, 2.1599e-03, 7.7523e-02, 8.5671e-03, 8.9568e-01,\n",
            "         6.2139e-04, 1.5348e-02, 1.3539e-05, 3.9805e-06],\n",
            "        [3.0552e-04, 2.0184e-03, 1.0772e-01, 4.4729e-02, 7.9540e-01, 2.0064e-02,\n",
            "         1.6194e-02, 1.2768e-02, 3.9795e-04, 4.0068e-04],\n",
            "        [2.6973e-05, 9.9251e-04, 3.9012e-03, 5.5733e-01, 4.3245e-02, 3.0430e-01,\n",
            "         8.9504e-02, 6.5822e-04, 7.5602e-06, 4.0953e-05],\n",
            "        [6.6187e-04, 2.4785e-04, 3.0864e-07, 3.4756e-06, 1.9891e-06, 2.3223e-07,\n",
            "         4.4776e-08, 7.7254e-06, 5.9278e-04, 9.9848e-01],\n",
            "        [2.7154e-03, 1.4128e-02, 7.4057e-02, 1.9819e-01, 3.8170e-04, 6.1063e-01,\n",
            "         1.0991e-02, 7.7248e-02, 7.4892e-03, 4.1619e-03],\n",
            "        [2.2512e-06, 7.1374e-09, 1.1247e-04, 1.1026e-03, 9.2716e-01, 1.7791e-02,\n",
            "         3.8610e-05, 5.3789e-02, 1.5853e-07, 1.4826e-08],\n",
            "        [3.4421e-04, 7.5329e-01, 6.1606e-07, 1.3291e-04, 1.2057e-06, 2.5467e-06,\n",
            "         5.1447e-07, 2.0609e-05, 7.7357e-06, 2.4620e-01],\n",
            "        [6.6528e-05, 2.4245e-03, 3.5525e-06, 2.4833e-03, 2.7141e-06, 2.3627e-03,\n",
            "         1.0670e-05, 7.3292e-04, 2.0966e-03, 9.8982e-01],\n",
            "        [7.8989e-08, 2.5451e-06, 9.9825e-06, 2.0324e-03, 6.2782e-07, 9.9789e-01,\n",
            "         1.5071e-05, 4.4510e-05, 5.6311e-07, 4.8842e-07],\n",
            "        [1.3359e-01, 7.5490e-03, 3.7725e-01, 2.9056e-02, 1.5434e-01, 1.8949e-03,\n",
            "         1.3204e-02, 2.8204e-01, 5.3933e-04, 5.3770e-04],\n",
            "        [3.6841e-05, 5.3926e-05, 2.7408e-03, 1.1960e-03, 5.1636e-03, 1.0594e-04,\n",
            "         9.8996e-01, 6.6846e-04, 8.8135e-06, 7.0235e-05],\n",
            "        [5.5142e-05, 5.2403e-05, 1.0318e-03, 8.4672e-02, 2.4965e-04, 9.0396e-01,\n",
            "         3.2367e-05, 9.8893e-03, 2.2044e-05, 3.3744e-05],\n",
            "        [1.5117e-04, 2.2489e-04, 8.4550e-03, 1.2379e-01, 4.4503e-03, 2.9500e-02,\n",
            "         8.3195e-01, 2.8540e-04, 4.5012e-04, 7.4012e-04],\n",
            "        [6.9698e-01, 1.8677e-01, 2.6497e-03, 4.5282e-04, 1.0362e-03, 3.0438e-04,\n",
            "         4.8438e-04, 3.4949e-03, 4.6503e-02, 6.1322e-02],\n",
            "        [1.2756e-04, 9.3086e-04, 2.5874e-08, 2.2239e-06, 6.7535e-08, 1.6740e-07,\n",
            "         8.7430e-09, 4.6730e-05, 8.3762e-04, 9.9805e-01],\n",
            "        [1.1286e-06, 1.9239e-04, 6.7046e-04, 9.4862e-01, 5.9248e-03, 3.6272e-02,\n",
            "         3.9985e-03, 4.2618e-03, 2.8232e-05, 2.7494e-05],\n",
            "        [2.3821e-02, 2.0362e-01, 2.3683e-04, 1.1915e-03, 1.1227e-05, 1.5046e-05,\n",
            "         1.6115e-04, 6.0794e-04, 1.7840e-02, 7.5249e-01],\n",
            "        [1.0619e-06, 2.1876e-07, 3.1938e-04, 1.3754e-04, 2.9873e-01, 8.5291e-04,\n",
            "         7.3267e-06, 6.9995e-01, 2.1854e-07, 9.8500e-08],\n",
            "        [4.4228e-05, 4.4004e-05, 2.3060e-02, 3.4721e-03, 6.2239e-03, 2.5413e-03,\n",
            "         9.6452e-01, 6.2449e-05, 3.3172e-05, 9.4133e-07],\n",
            "        [4.3752e-02, 1.2222e-04, 5.6594e-06, 2.6149e-05, 6.9881e-05, 6.1951e-07,\n",
            "         8.2769e-07, 9.0745e-05, 2.9218e-03, 9.5301e-01],\n",
            "        [2.8710e-03, 8.3838e-06, 1.9162e-04, 2.8734e-05, 6.5170e-05, 1.2034e-05,\n",
            "         2.3195e-05, 1.1429e-04, 9.9646e-01, 2.2536e-04],\n",
            "        [3.3979e-01, 1.7207e-03, 4.5778e-03, 4.7518e-02, 3.3100e-03, 1.9501e-02,\n",
            "         1.2917e-02, 1.6606e-03, 5.5505e-01, 1.3961e-02],\n",
            "        [1.4521e-05, 2.1821e-04, 1.4104e-02, 8.8132e-01, 2.6905e-03, 1.3893e-02,\n",
            "         8.6005e-02, 8.0618e-04, 6.3874e-05, 8.8500e-04],\n",
            "        [2.3325e-03, 1.0348e-06, 6.6891e-07, 3.6591e-07, 5.4971e-08, 5.1982e-08,\n",
            "         9.7435e-09, 2.0093e-07, 9.9767e-01, 3.6448e-08],\n",
            "        [5.1615e-04, 3.2346e-06, 2.1346e-04, 2.3729e-04, 2.1036e-04, 9.5769e-05,\n",
            "         2.2763e-07, 6.9471e-05, 9.9865e-01, 1.3860e-06],\n",
            "        [1.2518e-04, 5.2631e-04, 1.5801e-04, 2.2853e-01, 1.1698e-03, 7.3513e-02,\n",
            "         2.4158e-05, 6.9523e-01, 2.5555e-05, 6.9219e-04],\n",
            "        [8.8146e-03, 1.9521e-02, 4.9474e-02, 7.1721e-01, 2.9525e-02, 2.6804e-02,\n",
            "         6.5375e-02, 7.3567e-02, 8.5075e-03, 1.1984e-03],\n",
            "        [6.5840e-04, 2.5170e-04, 3.4587e-03, 7.2445e-01, 4.2426e-02, 1.7558e-01,\n",
            "         3.9797e-03, 4.6323e-02, 2.4708e-03, 4.0098e-04],\n",
            "        [1.8189e-02, 8.3534e-03, 1.5525e-02, 7.7703e-01, 1.4329e-02, 6.5267e-02,\n",
            "         6.3231e-02, 2.7028e-02, 6.6917e-03, 4.3597e-03],\n",
            "        [5.6051e-07, 3.5024e-07, 6.4255e-05, 2.0684e-05, 3.1015e-01, 1.3793e-04,\n",
            "         2.8019e-06, 6.8962e-01, 4.4817e-08, 1.2527e-08],\n",
            "        [2.2559e-05, 3.3922e-05, 2.9693e-02, 7.1732e-01, 2.1270e-03, 2.1085e-01,\n",
            "         1.3479e-02, 2.6403e-02, 2.6653e-05, 4.2309e-05],\n",
            "        [7.1596e-03, 1.5930e-02, 2.8653e-02, 2.4952e-02, 2.4004e-02, 2.7273e-03,\n",
            "         8.7787e-01, 1.0668e-02, 6.3582e-03, 1.6731e-03],\n",
            "        [2.7851e-04, 5.9482e-02, 5.0718e-03, 9.2127e-01, 4.8959e-04, 2.6309e-03,\n",
            "         7.3522e-04, 3.3714e-04, 4.1886e-03, 5.5143e-03]])\n"
          ]
        }
      ]
    },
    {
      "cell_type": "code",
      "metadata": {
        "id": "dAHiRMrLDqWt",
        "colab": {
          "base_uri": "https://localhost:8080/"
        },
        "outputId": "26f120d1-f368-4024-924a-24525b6da28a"
      },
      "source": [
        "CIFAR10_classes = ['plane', 'car', 'bird', 'cat',\n",
        "           'deer', 'dog', 'frog', 'horse', 'ship', 'truck']\n",
        "\n",
        "\n",
        "model.to('cpu')\n",
        "\n",
        "model.eval()\n",
        "\n",
        "with torch.no_grad():\n",
        "  images, labels = next(iter(testloader))\n",
        "  logps = model(images)\n",
        "  \n",
        "  output = torch.exp(logps)\n",
        "  \n",
        "  pred = torch.argmax(output,1) # as we just wanted the highest predicted value's index for each image.\n",
        "                                 # the index corresponds to the relevant class in CIFAR10\n",
        "    \n",
        "model.train() #switching back to default train mode, in pytorch."
      ],
      "execution_count": 18,
      "outputs": [
        {
          "output_type": "execute_result",
          "data": {
            "text/plain": [
              "VGG(\n",
              "  (features): Sequential(\n",
              "    (0): Conv2d(3, 64, kernel_size=(3, 3), stride=(1, 1), padding=(1, 1))\n",
              "    (1): ReLU(inplace=True)\n",
              "    (2): Conv2d(64, 64, kernel_size=(3, 3), stride=(1, 1), padding=(1, 1))\n",
              "    (3): ReLU(inplace=True)\n",
              "    (4): MaxPool2d(kernel_size=2, stride=2, padding=0, dilation=1, ceil_mode=False)\n",
              "    (5): Conv2d(64, 128, kernel_size=(3, 3), stride=(1, 1), padding=(1, 1))\n",
              "    (6): ReLU(inplace=True)\n",
              "    (7): Conv2d(128, 128, kernel_size=(3, 3), stride=(1, 1), padding=(1, 1))\n",
              "    (8): ReLU(inplace=True)\n",
              "    (9): MaxPool2d(kernel_size=2, stride=2, padding=0, dilation=1, ceil_mode=False)\n",
              "    (10): Conv2d(128, 256, kernel_size=(3, 3), stride=(1, 1), padding=(1, 1))\n",
              "    (11): ReLU(inplace=True)\n",
              "    (12): Conv2d(256, 256, kernel_size=(3, 3), stride=(1, 1), padding=(1, 1))\n",
              "    (13): ReLU(inplace=True)\n",
              "    (14): Conv2d(256, 256, kernel_size=(3, 3), stride=(1, 1), padding=(1, 1))\n",
              "    (15): ReLU(inplace=True)\n",
              "    (16): MaxPool2d(kernel_size=2, stride=2, padding=0, dilation=1, ceil_mode=False)\n",
              "    (17): Conv2d(256, 512, kernel_size=(3, 3), stride=(1, 1), padding=(1, 1))\n",
              "    (18): ReLU(inplace=True)\n",
              "    (19): Conv2d(512, 512, kernel_size=(3, 3), stride=(1, 1), padding=(1, 1))\n",
              "    (20): ReLU(inplace=True)\n",
              "    (21): Conv2d(512, 512, kernel_size=(3, 3), stride=(1, 1), padding=(1, 1))\n",
              "    (22): ReLU(inplace=True)\n",
              "    (23): MaxPool2d(kernel_size=2, stride=2, padding=0, dilation=1, ceil_mode=False)\n",
              "    (24): Conv2d(512, 512, kernel_size=(3, 3), stride=(1, 1), padding=(1, 1))\n",
              "    (25): ReLU(inplace=True)\n",
              "    (26): Conv2d(512, 512, kernel_size=(3, 3), stride=(1, 1), padding=(1, 1))\n",
              "    (27): ReLU(inplace=True)\n",
              "    (28): Conv2d(512, 512, kernel_size=(3, 3), stride=(1, 1), padding=(1, 1))\n",
              "    (29): ReLU(inplace=True)\n",
              "    (30): MaxPool2d(kernel_size=2, stride=2, padding=0, dilation=1, ceil_mode=False)\n",
              "  )\n",
              "  (avgpool): AdaptiveAvgPool2d(output_size=(7, 7))\n",
              "  (classifier): Sequential(\n",
              "    (0): Linear(in_features=25088, out_features=4096, bias=True)\n",
              "    (1): ReLU(inplace=True)\n",
              "    (2): Dropout(p=0.5, inplace=False)\n",
              "    (3): Linear(in_features=4096, out_features=4096, bias=True)\n",
              "    (4): ReLU(inplace=True)\n",
              "    (5): Dropout(p=0.5, inplace=False)\n",
              "    (6): Sequential(\n",
              "      (0): Linear(in_features=4096, out_features=10, bias=True)\n",
              "      (1): LogSoftmax(dim=1)\n",
              "    )\n",
              "  )\n",
              ")"
            ]
          },
          "metadata": {},
          "execution_count": 18
        }
      ]
    },
    {
      "cell_type": "code",
      "metadata": {
        "id": "xaef1eekLP9h",
        "colab": {
          "base_uri": "https://localhost:8080/",
          "height": 286
        },
        "outputId": "2ef3dc22-d310-40c0-f960-d74c114c290a"
      },
      "source": [
        "test_image_id=0\n",
        "\n",
        "def denormalize(tensor):\n",
        "  tensor = tensor*std+ mean\n",
        "  return tensor\n",
        "\n",
        "def show_img(img):\n",
        "  img = img.numpy().transpose((1,2,0))\n",
        "  img = denormalize(img)\n",
        "  img = np.clip(img,0,1)\n",
        "  plt.imshow(img)\n",
        "  \n",
        "def get_CIFAR10_class(id):\n",
        "  CIFAR10_classes = ['plane', 'car', 'bird', 'cat',\n",
        "           'deer', 'dog', 'frog', 'horse', 'ship', 'truck']\n",
        "  return CIFAR10_classes[id]\n",
        "\n",
        "show_img(images[test_image_id])\n",
        "print(get_CIFAR10_class(pred[test_image_id]))"
      ],
      "execution_count": 19,
      "outputs": [
        {
          "output_type": "stream",
          "name": "stdout",
          "text": [
            "cat\n"
          ]
        },
        {
          "output_type": "display_data",
          "data": {
            "image/png": "[encoded data removed]",
            "text/plain": [
              "<Figure size 432x288 with 1 Axes>"
            ]
          },
          "metadata": {
            "needs_background": "light"
          }
        }
      ]
    },
    {
      "cell_type": "code",
      "metadata": {
        "id": "p9QQbjReyEHz"
      },
      "source": [
        ""
      ],
      "execution_count": null,
      "outputs": []
    },
    {
      "cell_type": "markdown",
      "metadata": {
        "id": "icQvTdftMkPq"
      },
      "source": [
        "## Viewing images & normalization - Under the hood"
      ]
    },
    {
      "cell_type": "code",
      "metadata": {
        "id": "Pr1K5dNN5pzP",
        "colab": {
          "base_uri": "https://localhost:8080/"
        },
        "outputId": "254b12cb-3cf0-46f8-fd83-1848479b03af"
      },
      "source": [
        "pred # understanding what pred holds"
      ],
      "execution_count": 20,
      "outputs": [
        {
          "output_type": "execute_result",
          "data": {
            "text/plain": [
              "tensor([3, 8, 8, 0, 6, 6, 1, 6, 3, 1, 0, 9, 5, 7, 9, 8, 5, 7, 8, 6, 7, 0, 4, 9,\n",
              "        5, 2, 4, 0, 9, 6, 6, 5, 4, 3, 9, 5, 4, 1, 9, 5, 2, 6, 5, 6, 0, 9, 3, 9,\n",
              "        7, 6, 9, 8, 8, 3, 8, 8, 7, 3, 3, 3, 7, 3, 6, 3])"
            ]
          },
          "metadata": {},
          "execution_count": 20
        }
      ]
    },
    {
      "cell_type": "code",
      "metadata": {
        "id": "_hKzHym-5pxB",
        "colab": {
          "base_uri": "https://localhost:8080/"
        },
        "outputId": "98736ca8-b1bd-4a13-e6ac-f15a45d1b17a"
      },
      "source": [
        "images.size()"
      ],
      "execution_count": 21,
      "outputs": [
        {
          "output_type": "execute_result",
          "data": {
            "text/plain": [
              "torch.Size([64, 3, 224, 224])"
            ]
          },
          "metadata": {},
          "execution_count": 21
        }
      ]
    },
    {
      "cell_type": "code",
      "metadata": {
        "id": "k8W05wbQ5puy",
        "colab": {
          "base_uri": "https://localhost:8080/"
        },
        "outputId": "77902ab2-42a8-4cb4-d5c9-bb1f2d2fc229"
      },
      "source": [
        "images[0].size()"
      ],
      "execution_count": 22,
      "outputs": [
        {
          "output_type": "execute_result",
          "data": {
            "text/plain": [
              "torch.Size([3, 224, 224])"
            ]
          },
          "metadata": {},
          "execution_count": 22
        }
      ]
    },
    {
      "cell_type": "code",
      "metadata": {
        "id": "tvDymgRD5pqC",
        "colab": {
          "base_uri": "https://localhost:8080/",
          "height": 286
        },
        "outputId": "42c288d2-4c45-4fbe-defc-468e9ded9f06"
      },
      "source": [
        "plt.imshow(np.clip(np.transpose(images[test_image_id],(1,2,0)),0,1))"
      ],
      "execution_count": 24,
      "outputs": [
        {
          "output_type": "execute_result",
          "data": {
            "text/plain": [
              "<matplotlib.image.AxesImage at 0x7f8aad3be550>"
            ]
          },
          "metadata": {},
          "execution_count": 24
        },
        {
          "output_type": "display_data",
          "data": {
            "image/png": "[encoded data removed]",
            "text/plain": [
              "<Figure size 432x288 with 1 Axes>"
            ]
          },
          "metadata": {
            "needs_background": "light"
          }
        }
      ]
    },
    {
      "cell_type": "markdown",
      "metadata": {
        "id": "jeeHQbBRrWsa"
      },
      "source": [
        "z = (x - mean) / std #Z score"
      ]
    },
    {
      "cell_type": "code",
      "metadata": {
        "id": "TVx5ts6i5plM"
      },
      "source": [
        "def denormalize(tensor):\n",
        "  tensor = tensor*std + mean\n",
        "  return tensor #so that tensor is the Z - score"
      ],
      "execution_count": 25,
      "outputs": []
    },
    {
      "cell_type": "code",
      "metadata": {
        "id": "wPiNhV2D5pi6"
      },
      "source": [
        "def show_img(img):\n",
        "  img = img.numpy().transpose((1,2,0))\n",
        "  img = denormalize(img)\n",
        "  img = np.clip(img,0,1) #clipped between 0 and 1 as shown above\n",
        "  plt.imshow(img)"
      ],
      "execution_count": 29,
      "outputs": []
    },
    {
      "cell_type": "code",
      "metadata": {
        "id": "NRvmkAmD5pgh",
        "colab": {
          "base_uri": "https://localhost:8080/",
          "height": 269
        },
        "outputId": "eca272ff-dc27-4c99-97e8-99147721382d"
      },
      "source": [
        "show_img(images[test_image_id]) # looks much better normalised"
      ],
      "execution_count": 30,
      "outputs": [
        {
          "output_type": "display_data",
          "data": {
            "image/png": "[encoded data removed]",
            "text/plain": [
              "<Figure size 432x288 with 1 Axes>"
            ]
          },
          "metadata": {
            "needs_background": "light"
          }
        }
      ]
    },
    {
      "cell_type": "code",
      "metadata": {
        "id": "8OQPRoyO5pd7"
      },
      "source": [
        "def get_CIFAR10_class(id):\n",
        "  CIFAR10_classes = ['plane', 'car', 'bird', 'cat',\n",
        "           'deer', 'dog', 'frog', 'horse', 'ship', 'truck']\n",
        "  return CIFAR10_classes[id] #which member of the class is it, returned\n",
        "  "
      ],
      "execution_count": 31,
      "outputs": []
    },
    {
      "cell_type": "code",
      "metadata": {
        "id": "9dVJq6i45pbg",
        "colab": {
          "base_uri": "https://localhost:8080/",
          "height": 35
        },
        "outputId": "f4ee60f7-b547-440a-d386-d25244d5062e"
      },
      "source": [
        "get_CIFAR10_class(pred[test_image_id])"
      ],
      "execution_count": 28,
      "outputs": [
        {
          "output_type": "execute_result",
          "data": {
            "application/vnd.google.colaboratory.intrinsic+json": {
              "type": "string"
            },
            "text/plain": [
              "'cat'"
            ]
          },
          "metadata": {},
          "execution_count": 28
        }
      ]
    },
    {
      "cell_type": "code",
      "metadata": {
        "id": "038lKZM1rkrA"
      },
      "source": [
        ""
      ],
      "execution_count": null,
      "outputs": []
    },
    {
      "cell_type": "markdown",
      "metadata": {
        "id": "J3ETRpIGrlc_"
      },
      "source": [
        "## Accuracy of the model"
      ]
    },
    {
      "cell_type": "code",
      "metadata": {
        "colab": {
          "base_uri": "https://localhost:8080/"
        },
        "id": "My2wNydWrldA",
        "outputId": "b74f2c42-efd3-49c8-ec32-95dd5db9139b"
      },
      "source": [
        "model.eval()         #bcuz there's dropout layer\n",
        "with torch.no_grad(): #no need to calc gradient as we arent training yet\n",
        "    num_correct = 0   #store the numbers where the pred matches true labels\n",
        "    total = 0         #tracks the number of images we r testing\n",
        "\n",
        "    cnt = 0\n",
        "    #set_trace()\n",
        "    for images, labels in testloader:\n",
        "        \n",
        "        logps = model(images)     #forward pass and pred stored in logps\n",
        "        output = torch.exp(logps) #since those are log values, need to convert to exponent to get probability\n",
        "        print(output)             \n",
        "        cnt+=1\n",
        "        \n",
        "        if cnt > 0:   # to ensure the loop runs fine, failsafe!\n",
        "          break"
      ],
      "execution_count": 36,
      "outputs": [
        {
          "output_type": "stream",
          "name": "stdout",
          "text": [
            "tensor([[6.4039e-04, 1.0855e-02, 1.2875e-03, 7.7311e-01, 3.5930e-04, 3.2321e-02,\n",
            "         1.7434e-01, 6.0841e-03, 7.2985e-04, 2.7300e-04],\n",
            "        [1.3347e-02, 1.7900e-01, 5.1526e-05, 7.4468e-05, 8.5632e-07, 7.4796e-06,\n",
            "         5.1130e-06, 6.5271e-06, 8.0627e-01, 1.2352e-03],\n",
            "        [1.5944e-03, 2.8035e-03, 9.3020e-07, 3.3235e-06, 4.5233e-07, 1.4053e-07,\n",
            "         1.1405e-07, 5.1494e-06, 9.9545e-01, 1.4610e-04],\n",
            "        [4.3544e-01, 1.0295e-03, 5.9684e-02, 9.2777e-02, 6.5315e-04, 1.1365e-03,\n",
            "         3.0267e-03, 3.2557e-03, 4.0260e-01, 4.0206e-04],\n",
            "        [2.7520e-08, 3.9796e-07, 2.4135e-03, 3.2272e-04, 1.5428e-04, 8.6983e-06,\n",
            "         9.9710e-01, 6.8706e-07, 7.2332e-08, 1.6337e-07],\n",
            "        [5.7466e-06, 3.4879e-06, 7.1237e-05, 1.7720e-01, 1.7810e-02, 7.7967e-02,\n",
            "         7.2464e-01, 2.2588e-03, 5.1002e-07, 4.5706e-05],\n",
            "        [2.1850e-05, 9.9003e-01, 9.0432e-07, 9.9994e-05, 2.2661e-08, 1.5765e-04,\n",
            "         3.9578e-06, 6.9710e-05, 1.4562e-05, 9.6022e-03],\n",
            "        [1.7973e-02, 8.6891e-03, 3.4481e-02, 1.3312e-01, 3.1861e-02, 4.9464e-03,\n",
            "         7.0844e-01, 2.3797e-02, 1.2201e-02, 2.4487e-02],\n",
            "        [2.5087e-05, 5.9542e-06, 8.1176e-03, 9.7131e-01, 4.2208e-03, 7.5074e-03,\n",
            "         5.7529e-03, 3.0133e-03, 3.6861e-05, 5.3867e-06],\n",
            "        [1.5959e-05, 9.4560e-01, 5.1945e-06, 5.0688e-04, 1.9152e-05, 1.8836e-04,\n",
            "         2.8134e-04, 1.3159e-04, 5.4419e-05, 5.3200e-02],\n",
            "        [9.2695e-01, 6.2735e-05, 3.1488e-03, 2.9457e-02, 1.4477e-02, 5.9931e-03,\n",
            "         3.8828e-04, 1.5198e-02, 3.9748e-03, 3.4644e-04],\n",
            "        [4.6011e-08, 2.0809e-03, 3.3599e-10, 7.3182e-08, 2.0770e-10, 1.2780e-08,\n",
            "         8.8743e-09, 5.6139e-09, 7.2802e-07, 9.9792e-01],\n",
            "        [9.2439e-06, 3.0882e-05, 3.7365e-04, 1.4192e-01, 1.5956e-03, 7.9616e-01,\n",
            "         1.3701e-03, 5.8522e-02, 1.2472e-05, 8.0650e-06],\n",
            "        [1.5749e-04, 1.6461e-04, 7.0432e-03, 1.1327e-01, 8.3061e-04, 2.8068e-02,\n",
            "         4.8248e-04, 8.4977e-01, 5.7333e-05, 1.6181e-04],\n",
            "        [3.9286e-05, 3.5446e-03, 3.6068e-08, 3.0316e-06, 8.0809e-08, 6.8408e-07,\n",
            "         2.9940e-08, 9.7641e-06, 5.0504e-05, 9.9635e-01],\n",
            "        [2.0038e-02, 1.0881e-02, 2.9904e-02, 1.2205e-03, 8.3212e-05, 5.3382e-03,\n",
            "         1.4001e-01, 5.2498e-04, 7.9193e-01, 7.6428e-05],\n",
            "        [7.7202e-06, 1.2131e-05, 3.6614e-04, 2.6976e-01, 2.3459e-05, 7.2626e-01,\n",
            "         6.0565e-05, 3.5096e-03, 4.8190e-06, 2.8777e-06],\n",
            "        [4.8680e-05, 1.9460e-02, 2.5350e-04, 2.8381e-03, 4.9547e-04, 4.4399e-02,\n",
            "         1.5763e-03, 9.2952e-01, 1.1317e-05, 1.3964e-03],\n",
            "        [2.0833e-04, 2.7881e-04, 7.7282e-07, 3.4856e-06, 4.0379e-05, 4.3369e-07,\n",
            "         1.9666e-07, 1.7152e-05, 9.9788e-01, 1.5695e-03],\n",
            "        [1.9837e-05, 9.6761e-06, 2.5002e-03, 1.2138e-03, 4.9809e-04, 1.3279e-05,\n",
            "         9.9572e-01, 8.3876e-06, 1.9456e-05, 2.0513e-06],\n",
            "        [6.4801e-02, 7.4986e-03, 1.0316e-02, 2.0813e-01, 6.9222e-02, 2.1457e-02,\n",
            "         5.2026e-04, 6.1433e-01, 1.6386e-03, 2.0909e-03],\n",
            "        [9.7645e-01, 3.2378e-04, 3.7896e-03, 1.4930e-02, 1.6363e-03, 7.3006e-04,\n",
            "         7.2974e-04, 7.6882e-04, 5.5593e-04, 8.4959e-05],\n",
            "        [3.9205e-02, 5.1651e-04, 9.3792e-02, 3.7749e-02, 7.7997e-01, 2.5820e-03,\n",
            "         1.8013e-02, 1.0013e-02, 1.8126e-02, 3.5160e-05],\n",
            "        [2.2442e-04, 3.5755e-01, 3.9764e-07, 1.5136e-04, 7.4276e-08, 2.2761e-05,\n",
            "         1.3698e-07, 2.4146e-05, 7.6334e-05, 6.4195e-01],\n",
            "        [1.4979e-05, 1.6421e-05, 6.3172e-04, 3.2911e-01, 8.5554e-02, 5.8132e-01,\n",
            "         1.4634e-03, 1.8477e-03, 3.6748e-05, 5.0471e-06],\n",
            "        [2.0257e-03, 2.2321e-04, 4.1240e-01, 1.1605e-01, 1.9415e-01, 7.6521e-02,\n",
            "         9.7429e-04, 1.9749e-01, 7.1104e-05, 9.4912e-05],\n",
            "        [3.8294e-03, 6.2484e-04, 2.9198e-02, 4.2163e-01, 4.3066e-01, 3.1382e-02,\n",
            "         6.3700e-02, 1.5415e-02, 1.5872e-03, 1.9812e-03],\n",
            "        [5.1813e-01, 8.9356e-05, 3.1692e-01, 2.6591e-02, 5.9354e-02, 8.3250e-04,\n",
            "         2.1456e-02, 5.0411e-02, 5.5340e-03, 6.8257e-04],\n",
            "        [1.3336e-05, 9.4341e-04, 5.7503e-08, 1.1540e-05, 4.0599e-07, 3.5823e-07,\n",
            "         1.5376e-07, 2.4756e-05, 1.4670e-06, 9.9900e-01],\n",
            "        [6.9591e-06, 3.6311e-07, 1.3738e-03, 4.7673e-03, 3.9470e-03, 1.9135e-04,\n",
            "         9.8959e-01, 1.1653e-04, 5.0760e-06, 8.4461e-07],\n",
            "        [5.2514e-04, 3.5089e-04, 1.2399e-02, 2.0508e-01, 2.6494e-03, 1.3706e-03,\n",
            "         7.7586e-01, 9.2150e-04, 1.5624e-05, 8.2208e-04],\n",
            "        [2.4293e-06, 7.6083e-05, 2.1599e-03, 7.7523e-02, 8.5671e-03, 8.9568e-01,\n",
            "         6.2139e-04, 1.5348e-02, 1.3539e-05, 3.9805e-06],\n",
            "        [3.0552e-04, 2.0184e-03, 1.0772e-01, 4.4729e-02, 7.9540e-01, 2.0064e-02,\n",
            "         1.6194e-02, 1.2768e-02, 3.9795e-04, 4.0068e-04],\n",
            "        [2.6973e-05, 9.9251e-04, 3.9012e-03, 5.5733e-01, 4.3245e-02, 3.0430e-01,\n",
            "         8.9504e-02, 6.5822e-04, 7.5602e-06, 4.0953e-05],\n",
            "        [6.6187e-04, 2.4785e-04, 3.0864e-07, 3.4756e-06, 1.9891e-06, 2.3223e-07,\n",
            "         4.4776e-08, 7.7254e-06, 5.9278e-04, 9.9848e-01],\n",
            "        [2.7154e-03, 1.4128e-02, 7.4057e-02, 1.9819e-01, 3.8170e-04, 6.1063e-01,\n",
            "         1.0991e-02, 7.7248e-02, 7.4892e-03, 4.1619e-03],\n",
            "        [2.2512e-06, 7.1374e-09, 1.1247e-04, 1.1026e-03, 9.2716e-01, 1.7791e-02,\n",
            "         3.8610e-05, 5.3789e-02, 1.5853e-07, 1.4826e-08],\n",
            "        [3.4421e-04, 7.5329e-01, 6.1606e-07, 1.3291e-04, 1.2057e-06, 2.5467e-06,\n",
            "         5.1447e-07, 2.0609e-05, 7.7357e-06, 2.4620e-01],\n",
            "        [6.6528e-05, 2.4245e-03, 3.5525e-06, 2.4833e-03, 2.7141e-06, 2.3627e-03,\n",
            "         1.0670e-05, 7.3292e-04, 2.0966e-03, 9.8982e-01],\n",
            "        [7.8989e-08, 2.5451e-06, 9.9825e-06, 2.0324e-03, 6.2782e-07, 9.9789e-01,\n",
            "         1.5071e-05, 4.4510e-05, 5.6311e-07, 4.8842e-07],\n",
            "        [1.3359e-01, 7.5490e-03, 3.7725e-01, 2.9056e-02, 1.5434e-01, 1.8949e-03,\n",
            "         1.3204e-02, 2.8204e-01, 5.3933e-04, 5.3770e-04],\n",
            "        [3.6841e-05, 5.3926e-05, 2.7408e-03, 1.1960e-03, 5.1636e-03, 1.0594e-04,\n",
            "         9.8996e-01, 6.6846e-04, 8.8135e-06, 7.0235e-05],\n",
            "        [5.5142e-05, 5.2403e-05, 1.0318e-03, 8.4672e-02, 2.4965e-04, 9.0396e-01,\n",
            "         3.2367e-05, 9.8893e-03, 2.2044e-05, 3.3744e-05],\n",
            "        [1.5117e-04, 2.2489e-04, 8.4550e-03, 1.2379e-01, 4.4503e-03, 2.9500e-02,\n",
            "         8.3195e-01, 2.8540e-04, 4.5012e-04, 7.4012e-04],\n",
            "        [6.9698e-01, 1.8677e-01, 2.6497e-03, 4.5282e-04, 1.0362e-03, 3.0438e-04,\n",
            "         4.8438e-04, 3.4949e-03, 4.6503e-02, 6.1322e-02],\n",
            "        [1.2756e-04, 9.3086e-04, 2.5874e-08, 2.2239e-06, 6.7535e-08, 1.6740e-07,\n",
            "         8.7430e-09, 4.6730e-05, 8.3762e-04, 9.9805e-01],\n",
            "        [1.1286e-06, 1.9239e-04, 6.7046e-04, 9.4862e-01, 5.9248e-03, 3.6272e-02,\n",
            "         3.9985e-03, 4.2618e-03, 2.8232e-05, 2.7494e-05],\n",
            "        [2.3821e-02, 2.0362e-01, 2.3683e-04, 1.1915e-03, 1.1227e-05, 1.5046e-05,\n",
            "         1.6115e-04, 6.0794e-04, 1.7840e-02, 7.5249e-01],\n",
            "        [1.0619e-06, 2.1876e-07, 3.1938e-04, 1.3754e-04, 2.9873e-01, 8.5291e-04,\n",
            "         7.3267e-06, 6.9995e-01, 2.1854e-07, 9.8500e-08],\n",
            "        [4.4228e-05, 4.4004e-05, 2.3060e-02, 3.4721e-03, 6.2239e-03, 2.5413e-03,\n",
            "         9.6452e-01, 6.2449e-05, 3.3172e-05, 9.4133e-07],\n",
            "        [4.3752e-02, 1.2222e-04, 5.6594e-06, 2.6149e-05, 6.9881e-05, 6.1951e-07,\n",
            "         8.2769e-07, 9.0745e-05, 2.9218e-03, 9.5301e-01],\n",
            "        [2.8710e-03, 8.3838e-06, 1.9162e-04, 2.8734e-05, 6.5170e-05, 1.2034e-05,\n",
            "         2.3195e-05, 1.1429e-04, 9.9646e-01, 2.2536e-04],\n",
            "        [3.3979e-01, 1.7207e-03, 4.5778e-03, 4.7518e-02, 3.3100e-03, 1.9501e-02,\n",
            "         1.2917e-02, 1.6606e-03, 5.5505e-01, 1.3961e-02],\n",
            "        [1.4521e-05, 2.1821e-04, 1.4104e-02, 8.8132e-01, 2.6905e-03, 1.3893e-02,\n",
            "         8.6005e-02, 8.0618e-04, 6.3874e-05, 8.8500e-04],\n",
            "        [2.3325e-03, 1.0348e-06, 6.6891e-07, 3.6591e-07, 5.4971e-08, 5.1982e-08,\n",
            "         9.7435e-09, 2.0093e-07, 9.9767e-01, 3.6448e-08],\n",
            "        [5.1615e-04, 3.2346e-06, 2.1346e-04, 2.3729e-04, 2.1036e-04, 9.5769e-05,\n",
            "         2.2763e-07, 6.9471e-05, 9.9865e-01, 1.3860e-06],\n",
            "        [1.2518e-04, 5.2631e-04, 1.5801e-04, 2.2853e-01, 1.1698e-03, 7.3513e-02,\n",
            "         2.4158e-05, 6.9523e-01, 2.5555e-05, 6.9219e-04],\n",
            "        [8.8146e-03, 1.9521e-02, 4.9474e-02, 7.1721e-01, 2.9525e-02, 2.6804e-02,\n",
            "         6.5375e-02, 7.3567e-02, 8.5075e-03, 1.1984e-03],\n",
            "        [6.5840e-04, 2.5170e-04, 3.4587e-03, 7.2445e-01, 4.2426e-02, 1.7558e-01,\n",
            "         3.9797e-03, 4.6323e-02, 2.4708e-03, 4.0098e-04],\n",
            "        [1.8189e-02, 8.3534e-03, 1.5525e-02, 7.7703e-01, 1.4329e-02, 6.5267e-02,\n",
            "         6.3231e-02, 2.7028e-02, 6.6917e-03, 4.3597e-03],\n",
            "        [5.6051e-07, 3.5024e-07, 6.4255e-05, 2.0684e-05, 3.1015e-01, 1.3793e-04,\n",
            "         2.8019e-06, 6.8962e-01, 4.4817e-08, 1.2527e-08],\n",
            "        [2.2559e-05, 3.3922e-05, 2.9693e-02, 7.1732e-01, 2.1270e-03, 2.1085e-01,\n",
            "         1.3479e-02, 2.6403e-02, 2.6653e-05, 4.2309e-05],\n",
            "        [7.1596e-03, 1.5930e-02, 2.8653e-02, 2.4952e-02, 2.4004e-02, 2.7273e-03,\n",
            "         8.7787e-01, 1.0668e-02, 6.3582e-03, 1.6731e-03],\n",
            "        [2.7851e-04, 5.9482e-02, 5.0718e-03, 9.2127e-01, 4.8959e-04, 2.6309e-03,\n",
            "         7.3522e-04, 3.3714e-04, 4.1886e-03, 5.5143e-03]])\n"
          ]
        }
      ]
    },
    {
      "cell_type": "code",
      "metadata": {
        "colab": {
          "base_uri": "https://localhost:8080/"
        },
        "id": "KgTfgIxPrldA",
        "outputId": "1948bbe8-e0d7-420a-9ff8-7ffe3f0db4ce"
      },
      "source": [
        "pred,labels"
      ],
      "execution_count": 37,
      "outputs": [
        {
          "output_type": "execute_result",
          "data": {
            "text/plain": [
              "(tensor([3, 8, 8, 0, 6, 6, 1, 6, 3, 1, 0, 9, 5, 7, 9, 8, 5, 7, 8, 6, 7, 0, 4, 9,\n",
              "         5, 2, 4, 0, 9, 6, 6, 5, 4, 3, 9, 5, 4, 1, 9, 5, 2, 6, 5, 6, 0, 9, 3, 9,\n",
              "         7, 6, 9, 8, 8, 3, 8, 8, 7, 3, 3, 3, 7, 3, 6, 3]),\n",
              " tensor([3, 8, 8, 0, 6, 6, 1, 6, 3, 1, 0, 9, 5, 7, 9, 8, 5, 7, 8, 6, 7, 0, 4, 9,\n",
              "         5, 2, 4, 0, 9, 6, 6, 5, 4, 5, 9, 2, 4, 1, 9, 5, 4, 6, 5, 6, 0, 9, 3, 9,\n",
              "         7, 6, 9, 8, 0, 3, 8, 8, 7, 7, 4, 6, 7, 3, 6, 3]))"
            ]
          },
          "metadata": {},
          "execution_count": 37
        }
      ]
    },
    {
      "cell_type": "code",
      "metadata": {
        "colab": {
          "base_uri": "https://localhost:8080/"
        },
        "id": "h-b4hrcWrldB",
        "outputId": "da567c62-1778-48dd-dfd2-5c2bbb9ea8ed"
      },
      "source": [
        "pred == labels"
      ],
      "execution_count": 38,
      "outputs": [
        {
          "output_type": "execute_result",
          "data": {
            "text/plain": [
              "tensor([ True,  True,  True,  True,  True,  True,  True,  True,  True,  True,\n",
              "         True,  True,  True,  True,  True,  True,  True,  True,  True,  True,\n",
              "         True,  True,  True,  True,  True,  True,  True,  True,  True,  True,\n",
              "         True,  True,  True, False,  True, False,  True,  True,  True,  True,\n",
              "        False,  True,  True,  True,  True,  True,  True,  True,  True,  True,\n",
              "         True,  True, False,  True,  True,  True,  True, False, False, False,\n",
              "         True,  True,  True,  True])"
            ]
          },
          "metadata": {},
          "execution_count": 38
        }
      ]
    },
    {
      "cell_type": "code",
      "metadata": {
        "colab": {
          "base_uri": "https://localhost:8080/"
        },
        "id": "5o2IikJ2rldC",
        "outputId": "0b16a105-08a3-447a-d782-4951fce0994c"
      },
      "source": [
        "model.eval()\n",
        "with torch.no_grad():\n",
        "    num_correct = 0\n",
        "    total = 0\n",
        "\n",
        "\n",
        "    for batch, (images, labels) in enumerate(testloader,1):\n",
        "        \n",
        "        logps = model(images)\n",
        "        output = torch.exp(logps)\n",
        "        \n",
        "        pred = torch.argmax(output, 1)\n",
        "        total += labels.size(0)\n",
        "        num_correct += (pred == labels).sum().item() #summing right preds, to get total number of corrects, the item() method gives number from a tensor containing single value\n",
        "        print(f'Batch ({batch}/{len(testloader)})')\n",
        "        \n",
        "        if batch == 5:\n",
        "          break\n",
        "\n",
        "    print(f'Accuracy of the model on {total} test images: {num_correct * 100 / total}% ')"
      ],
      "execution_count": 40,
      "outputs": [
        {
          "output_type": "stream",
          "name": "stdout",
          "text": [
            "Batch (1/157)\n",
            "Batch (2/157)\n",
            "Batch (3/157)\n",
            "Batch (4/157)\n",
            "Batch (5/157)\n",
            "Accuracy of the model on 320 test images: 79.6875% \n"
          ]
        }
      ]
    },
    {
      "cell_type": "markdown",
      "metadata": {
        "id": "vAiVaUmkqQnG"
      },
      "source": [
        "Training with only **one epoch** and just **limited data** of images, we still have the accuracy of ~80%. That's the benefit of transfer learning."
      ]
    },
    {
      "cell_type": "code",
      "metadata": {
        "id": "5j0bxgbGrldD"
      },
      "source": [
        ""
      ],
      "execution_count": 39,
      "outputs": []
    },
    {
      "cell_type": "code",
      "metadata": {
        "id": "qNREcZHQrldD"
      },
      "source": [
        ""
      ],
      "execution_count": 39,
      "outputs": []
    }
  ]
}
